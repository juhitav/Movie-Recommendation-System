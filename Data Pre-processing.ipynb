{
 "cells": [
  {
   "cell_type": "code",
   "execution_count": 1,
   "id": "6062fe12",
   "metadata": {},
   "outputs": [],
   "source": [
    "# Importing the pandas library for analysing the data\n",
    "\n",
    "import pandas as pd\n",
    "\n",
    "movies = pd.read_csv('movies.csv')\n",
    "details = pd.read_csv('details.csv')"
   ]
  },
  {
   "cell_type": "code",
   "execution_count": 2,
   "id": "0775679b",
   "metadata": {},
   "outputs": [
    {
     "data": {
      "text/html": [
       "<div>\n",
       "<style scoped>\n",
       "    .dataframe tbody tr th:only-of-type {\n",
       "        vertical-align: middle;\n",
       "    }\n",
       "\n",
       "    .dataframe tbody tr th {\n",
       "        vertical-align: top;\n",
       "    }\n",
       "\n",
       "    .dataframe thead th {\n",
       "        text-align: right;\n",
       "    }\n",
       "</style>\n",
       "<table border=\"1\" class=\"dataframe\">\n",
       "  <thead>\n",
       "    <tr style=\"text-align: right;\">\n",
       "      <th></th>\n",
       "      <th>budget</th>\n",
       "      <th>genres</th>\n",
       "      <th>homepage</th>\n",
       "      <th>id</th>\n",
       "      <th>keywords</th>\n",
       "      <th>original_language</th>\n",
       "      <th>original_title</th>\n",
       "      <th>overview</th>\n",
       "      <th>popularity</th>\n",
       "      <th>production_companies</th>\n",
       "      <th>production_countries</th>\n",
       "      <th>release_date</th>\n",
       "      <th>revenue</th>\n",
       "      <th>runtime</th>\n",
       "      <th>spoken_languages</th>\n",
       "      <th>status</th>\n",
       "      <th>tagline</th>\n",
       "      <th>title</th>\n",
       "      <th>vote_average</th>\n",
       "      <th>vote_count</th>\n",
       "    </tr>\n",
       "  </thead>\n",
       "  <tbody>\n",
       "    <tr>\n",
       "      <th>0</th>\n",
       "      <td>237000000</td>\n",
       "      <td>[{\"id\": 28, \"name\": \"Action\"}, {\"id\": 12, \"nam...</td>\n",
       "      <td>http://www.avatarmovie.com/</td>\n",
       "      <td>19995</td>\n",
       "      <td>[{\"id\": 1463, \"name\": \"culture clash\"}, {\"id\":...</td>\n",
       "      <td>en</td>\n",
       "      <td>Avatar</td>\n",
       "      <td>In the 22nd century, a paraplegic Marine is di...</td>\n",
       "      <td>150.437577</td>\n",
       "      <td>[{\"name\": \"Ingenious Film Partners\", \"id\": 289...</td>\n",
       "      <td>[{\"iso_3166_1\": \"US\", \"name\": \"United States o...</td>\n",
       "      <td>2009-12-10</td>\n",
       "      <td>2787965087</td>\n",
       "      <td>162.0</td>\n",
       "      <td>[{\"iso_639_1\": \"en\", \"name\": \"English\"}, {\"iso...</td>\n",
       "      <td>Released</td>\n",
       "      <td>Enter the World of Pandora.</td>\n",
       "      <td>Avatar</td>\n",
       "      <td>7.2</td>\n",
       "      <td>11800</td>\n",
       "    </tr>\n",
       "    <tr>\n",
       "      <th>1</th>\n",
       "      <td>300000000</td>\n",
       "      <td>[{\"id\": 12, \"name\": \"Adventure\"}, {\"id\": 14, \"...</td>\n",
       "      <td>http://disney.go.com/disneypictures/pirates/</td>\n",
       "      <td>285</td>\n",
       "      <td>[{\"id\": 270, \"name\": \"ocean\"}, {\"id\": 726, \"na...</td>\n",
       "      <td>en</td>\n",
       "      <td>Pirates of the Caribbean: At World's End</td>\n",
       "      <td>Captain Barbossa, long believed to be dead, ha...</td>\n",
       "      <td>139.082615</td>\n",
       "      <td>[{\"name\": \"Walt Disney Pictures\", \"id\": 2}, {\"...</td>\n",
       "      <td>[{\"iso_3166_1\": \"US\", \"name\": \"United States o...</td>\n",
       "      <td>2007-05-19</td>\n",
       "      <td>961000000</td>\n",
       "      <td>169.0</td>\n",
       "      <td>[{\"iso_639_1\": \"en\", \"name\": \"English\"}]</td>\n",
       "      <td>Released</td>\n",
       "      <td>At the end of the world, the adventure begins.</td>\n",
       "      <td>Pirates of the Caribbean: At World's End</td>\n",
       "      <td>6.9</td>\n",
       "      <td>4500</td>\n",
       "    </tr>\n",
       "    <tr>\n",
       "      <th>2</th>\n",
       "      <td>245000000</td>\n",
       "      <td>[{\"id\": 28, \"name\": \"Action\"}, {\"id\": 12, \"nam...</td>\n",
       "      <td>http://www.sonypictures.com/movies/spectre/</td>\n",
       "      <td>206647</td>\n",
       "      <td>[{\"id\": 470, \"name\": \"spy\"}, {\"id\": 818, \"name...</td>\n",
       "      <td>en</td>\n",
       "      <td>Spectre</td>\n",
       "      <td>A cryptic message from Bond’s past sends him o...</td>\n",
       "      <td>107.376788</td>\n",
       "      <td>[{\"name\": \"Columbia Pictures\", \"id\": 5}, {\"nam...</td>\n",
       "      <td>[{\"iso_3166_1\": \"GB\", \"name\": \"United Kingdom\"...</td>\n",
       "      <td>2015-10-26</td>\n",
       "      <td>880674609</td>\n",
       "      <td>148.0</td>\n",
       "      <td>[{\"iso_639_1\": \"fr\", \"name\": \"Fran\\u00e7ais\"},...</td>\n",
       "      <td>Released</td>\n",
       "      <td>A Plan No One Escapes</td>\n",
       "      <td>Spectre</td>\n",
       "      <td>6.3</td>\n",
       "      <td>4466</td>\n",
       "    </tr>\n",
       "    <tr>\n",
       "      <th>3</th>\n",
       "      <td>250000000</td>\n",
       "      <td>[{\"id\": 28, \"name\": \"Action\"}, {\"id\": 80, \"nam...</td>\n",
       "      <td>http://www.thedarkknightrises.com/</td>\n",
       "      <td>49026</td>\n",
       "      <td>[{\"id\": 849, \"name\": \"dc comics\"}, {\"id\": 853,...</td>\n",
       "      <td>en</td>\n",
       "      <td>The Dark Knight Rises</td>\n",
       "      <td>Following the death of District Attorney Harve...</td>\n",
       "      <td>112.312950</td>\n",
       "      <td>[{\"name\": \"Legendary Pictures\", \"id\": 923}, {\"...</td>\n",
       "      <td>[{\"iso_3166_1\": \"US\", \"name\": \"United States o...</td>\n",
       "      <td>2012-07-16</td>\n",
       "      <td>1084939099</td>\n",
       "      <td>165.0</td>\n",
       "      <td>[{\"iso_639_1\": \"en\", \"name\": \"English\"}]</td>\n",
       "      <td>Released</td>\n",
       "      <td>The Legend Ends</td>\n",
       "      <td>The Dark Knight Rises</td>\n",
       "      <td>7.6</td>\n",
       "      <td>9106</td>\n",
       "    </tr>\n",
       "    <tr>\n",
       "      <th>4</th>\n",
       "      <td>260000000</td>\n",
       "      <td>[{\"id\": 28, \"name\": \"Action\"}, {\"id\": 12, \"nam...</td>\n",
       "      <td>http://movies.disney.com/john-carter</td>\n",
       "      <td>49529</td>\n",
       "      <td>[{\"id\": 818, \"name\": \"based on novel\"}, {\"id\":...</td>\n",
       "      <td>en</td>\n",
       "      <td>John Carter</td>\n",
       "      <td>John Carter is a war-weary, former military ca...</td>\n",
       "      <td>43.926995</td>\n",
       "      <td>[{\"name\": \"Walt Disney Pictures\", \"id\": 2}]</td>\n",
       "      <td>[{\"iso_3166_1\": \"US\", \"name\": \"United States o...</td>\n",
       "      <td>2012-03-07</td>\n",
       "      <td>284139100</td>\n",
       "      <td>132.0</td>\n",
       "      <td>[{\"iso_639_1\": \"en\", \"name\": \"English\"}]</td>\n",
       "      <td>Released</td>\n",
       "      <td>Lost in our world, found in another.</td>\n",
       "      <td>John Carter</td>\n",
       "      <td>6.1</td>\n",
       "      <td>2124</td>\n",
       "    </tr>\n",
       "  </tbody>\n",
       "</table>\n",
       "</div>"
      ],
      "text/plain": [
       "      budget                                             genres  \\\n",
       "0  237000000  [{\"id\": 28, \"name\": \"Action\"}, {\"id\": 12, \"nam...   \n",
       "1  300000000  [{\"id\": 12, \"name\": \"Adventure\"}, {\"id\": 14, \"...   \n",
       "2  245000000  [{\"id\": 28, \"name\": \"Action\"}, {\"id\": 12, \"nam...   \n",
       "3  250000000  [{\"id\": 28, \"name\": \"Action\"}, {\"id\": 80, \"nam...   \n",
       "4  260000000  [{\"id\": 28, \"name\": \"Action\"}, {\"id\": 12, \"nam...   \n",
       "\n",
       "                                       homepage      id  \\\n",
       "0                   http://www.avatarmovie.com/   19995   \n",
       "1  http://disney.go.com/disneypictures/pirates/     285   \n",
       "2   http://www.sonypictures.com/movies/spectre/  206647   \n",
       "3            http://www.thedarkknightrises.com/   49026   \n",
       "4          http://movies.disney.com/john-carter   49529   \n",
       "\n",
       "                                            keywords original_language  \\\n",
       "0  [{\"id\": 1463, \"name\": \"culture clash\"}, {\"id\":...                en   \n",
       "1  [{\"id\": 270, \"name\": \"ocean\"}, {\"id\": 726, \"na...                en   \n",
       "2  [{\"id\": 470, \"name\": \"spy\"}, {\"id\": 818, \"name...                en   \n",
       "3  [{\"id\": 849, \"name\": \"dc comics\"}, {\"id\": 853,...                en   \n",
       "4  [{\"id\": 818, \"name\": \"based on novel\"}, {\"id\":...                en   \n",
       "\n",
       "                             original_title  \\\n",
       "0                                    Avatar   \n",
       "1  Pirates of the Caribbean: At World's End   \n",
       "2                                   Spectre   \n",
       "3                     The Dark Knight Rises   \n",
       "4                               John Carter   \n",
       "\n",
       "                                            overview  popularity  \\\n",
       "0  In the 22nd century, a paraplegic Marine is di...  150.437577   \n",
       "1  Captain Barbossa, long believed to be dead, ha...  139.082615   \n",
       "2  A cryptic message from Bond’s past sends him o...  107.376788   \n",
       "3  Following the death of District Attorney Harve...  112.312950   \n",
       "4  John Carter is a war-weary, former military ca...   43.926995   \n",
       "\n",
       "                                production_companies  \\\n",
       "0  [{\"name\": \"Ingenious Film Partners\", \"id\": 289...   \n",
       "1  [{\"name\": \"Walt Disney Pictures\", \"id\": 2}, {\"...   \n",
       "2  [{\"name\": \"Columbia Pictures\", \"id\": 5}, {\"nam...   \n",
       "3  [{\"name\": \"Legendary Pictures\", \"id\": 923}, {\"...   \n",
       "4        [{\"name\": \"Walt Disney Pictures\", \"id\": 2}]   \n",
       "\n",
       "                                production_countries release_date     revenue  \\\n",
       "0  [{\"iso_3166_1\": \"US\", \"name\": \"United States o...   2009-12-10  2787965087   \n",
       "1  [{\"iso_3166_1\": \"US\", \"name\": \"United States o...   2007-05-19   961000000   \n",
       "2  [{\"iso_3166_1\": \"GB\", \"name\": \"United Kingdom\"...   2015-10-26   880674609   \n",
       "3  [{\"iso_3166_1\": \"US\", \"name\": \"United States o...   2012-07-16  1084939099   \n",
       "4  [{\"iso_3166_1\": \"US\", \"name\": \"United States o...   2012-03-07   284139100   \n",
       "\n",
       "   runtime                                   spoken_languages    status  \\\n",
       "0    162.0  [{\"iso_639_1\": \"en\", \"name\": \"English\"}, {\"iso...  Released   \n",
       "1    169.0           [{\"iso_639_1\": \"en\", \"name\": \"English\"}]  Released   \n",
       "2    148.0  [{\"iso_639_1\": \"fr\", \"name\": \"Fran\\u00e7ais\"},...  Released   \n",
       "3    165.0           [{\"iso_639_1\": \"en\", \"name\": \"English\"}]  Released   \n",
       "4    132.0           [{\"iso_639_1\": \"en\", \"name\": \"English\"}]  Released   \n",
       "\n",
       "                                          tagline  \\\n",
       "0                     Enter the World of Pandora.   \n",
       "1  At the end of the world, the adventure begins.   \n",
       "2                           A Plan No One Escapes   \n",
       "3                                 The Legend Ends   \n",
       "4            Lost in our world, found in another.   \n",
       "\n",
       "                                      title  vote_average  vote_count  \n",
       "0                                    Avatar           7.2       11800  \n",
       "1  Pirates of the Caribbean: At World's End           6.9        4500  \n",
       "2                                   Spectre           6.3        4466  \n",
       "3                     The Dark Knight Rises           7.6        9106  \n",
       "4                               John Carter           6.1        2124  "
      ]
     },
     "execution_count": 2,
     "metadata": {},
     "output_type": "execute_result"
    }
   ],
   "source": [
    "# Analysing the data of names viz. budget, genres, homepage, id, keywords etc\n",
    "\n",
    "movies.head()"
   ]
  },
  {
   "cell_type": "code",
   "execution_count": 3,
   "id": "46eb6b26",
   "metadata": {},
   "outputs": [
    {
     "data": {
      "text/html": [
       "<div>\n",
       "<style scoped>\n",
       "    .dataframe tbody tr th:only-of-type {\n",
       "        vertical-align: middle;\n",
       "    }\n",
       "\n",
       "    .dataframe tbody tr th {\n",
       "        vertical-align: top;\n",
       "    }\n",
       "\n",
       "    .dataframe thead th {\n",
       "        text-align: right;\n",
       "    }\n",
       "</style>\n",
       "<table border=\"1\" class=\"dataframe\">\n",
       "  <thead>\n",
       "    <tr style=\"text-align: right;\">\n",
       "      <th></th>\n",
       "      <th>movie_id</th>\n",
       "      <th>title</th>\n",
       "      <th>cast</th>\n",
       "      <th>crew</th>\n",
       "    </tr>\n",
       "  </thead>\n",
       "  <tbody>\n",
       "    <tr>\n",
       "      <th>0</th>\n",
       "      <td>19995</td>\n",
       "      <td>Avatar</td>\n",
       "      <td>[{\"cast_id\": 242, \"character\": \"Jake Sully\", \"...</td>\n",
       "      <td>[{\"credit_id\": \"52fe48009251416c750aca23\", \"de...</td>\n",
       "    </tr>\n",
       "    <tr>\n",
       "      <th>1</th>\n",
       "      <td>285</td>\n",
       "      <td>Pirates of the Caribbean: At World's End</td>\n",
       "      <td>[{\"cast_id\": 4, \"character\": \"Captain Jack Spa...</td>\n",
       "      <td>[{\"credit_id\": \"52fe4232c3a36847f800b579\", \"de...</td>\n",
       "    </tr>\n",
       "    <tr>\n",
       "      <th>2</th>\n",
       "      <td>206647</td>\n",
       "      <td>Spectre</td>\n",
       "      <td>[{\"cast_id\": 1, \"character\": \"James Bond\", \"cr...</td>\n",
       "      <td>[{\"credit_id\": \"54805967c3a36829b5002c41\", \"de...</td>\n",
       "    </tr>\n",
       "    <tr>\n",
       "      <th>3</th>\n",
       "      <td>49026</td>\n",
       "      <td>The Dark Knight Rises</td>\n",
       "      <td>[{\"cast_id\": 2, \"character\": \"Bruce Wayne / Ba...</td>\n",
       "      <td>[{\"credit_id\": \"52fe4781c3a36847f81398c3\", \"de...</td>\n",
       "    </tr>\n",
       "    <tr>\n",
       "      <th>4</th>\n",
       "      <td>49529</td>\n",
       "      <td>John Carter</td>\n",
       "      <td>[{\"cast_id\": 5, \"character\": \"John Carter\", \"c...</td>\n",
       "      <td>[{\"credit_id\": \"52fe479ac3a36847f813eaa3\", \"de...</td>\n",
       "    </tr>\n",
       "  </tbody>\n",
       "</table>\n",
       "</div>"
      ],
      "text/plain": [
       "   movie_id                                     title  \\\n",
       "0     19995                                    Avatar   \n",
       "1       285  Pirates of the Caribbean: At World's End   \n",
       "2    206647                                   Spectre   \n",
       "3     49026                     The Dark Knight Rises   \n",
       "4     49529                               John Carter   \n",
       "\n",
       "                                                cast  \\\n",
       "0  [{\"cast_id\": 242, \"character\": \"Jake Sully\", \"...   \n",
       "1  [{\"cast_id\": 4, \"character\": \"Captain Jack Spa...   \n",
       "2  [{\"cast_id\": 1, \"character\": \"James Bond\", \"cr...   \n",
       "3  [{\"cast_id\": 2, \"character\": \"Bruce Wayne / Ba...   \n",
       "4  [{\"cast_id\": 5, \"character\": \"John Carter\", \"c...   \n",
       "\n",
       "                                                crew  \n",
       "0  [{\"credit_id\": \"52fe48009251416c750aca23\", \"de...  \n",
       "1  [{\"credit_id\": \"52fe4232c3a36847f800b579\", \"de...  \n",
       "2  [{\"credit_id\": \"54805967c3a36829b5002c41\", \"de...  \n",
       "3  [{\"credit_id\": \"52fe4781c3a36847f81398c3\", \"de...  \n",
       "4  [{\"credit_id\": \"52fe479ac3a36847f813eaa3\", \"de...  "
      ]
     },
     "execution_count": 3,
     "metadata": {},
     "output_type": "execute_result"
    }
   ],
   "source": [
    "# Analysing the other data of names viz. movie_id, title, cast and crew\n",
    "\n",
    "details.head()"
   ]
  },
  {
   "cell_type": "code",
   "execution_count": 4,
   "id": "9b210188",
   "metadata": {},
   "outputs": [],
   "source": [
    "''' \n",
    "Merging the data frames \"movies\" and \"details\" with \"title\" \n",
    "as a merge point and storing the resultant data frame in \"movies\" \n",
    "'''\n",
    "\n",
    "movies = movies.merge(details, on = 'title')"
   ]
  },
  {
   "cell_type": "code",
   "execution_count": 5,
   "id": "280a54ba",
   "metadata": {},
   "outputs": [
    {
     "data": {
      "text/html": [
       "<div>\n",
       "<style scoped>\n",
       "    .dataframe tbody tr th:only-of-type {\n",
       "        vertical-align: middle;\n",
       "    }\n",
       "\n",
       "    .dataframe tbody tr th {\n",
       "        vertical-align: top;\n",
       "    }\n",
       "\n",
       "    .dataframe thead th {\n",
       "        text-align: right;\n",
       "    }\n",
       "</style>\n",
       "<table border=\"1\" class=\"dataframe\">\n",
       "  <thead>\n",
       "    <tr style=\"text-align: right;\">\n",
       "      <th></th>\n",
       "      <th>budget</th>\n",
       "      <th>genres</th>\n",
       "      <th>homepage</th>\n",
       "      <th>id</th>\n",
       "      <th>keywords</th>\n",
       "      <th>original_language</th>\n",
       "      <th>original_title</th>\n",
       "      <th>overview</th>\n",
       "      <th>popularity</th>\n",
       "      <th>production_companies</th>\n",
       "      <th>...</th>\n",
       "      <th>runtime</th>\n",
       "      <th>spoken_languages</th>\n",
       "      <th>status</th>\n",
       "      <th>tagline</th>\n",
       "      <th>title</th>\n",
       "      <th>vote_average</th>\n",
       "      <th>vote_count</th>\n",
       "      <th>movie_id</th>\n",
       "      <th>cast</th>\n",
       "      <th>crew</th>\n",
       "    </tr>\n",
       "  </thead>\n",
       "  <tbody>\n",
       "    <tr>\n",
       "      <th>0</th>\n",
       "      <td>237000000</td>\n",
       "      <td>[{\"id\": 28, \"name\": \"Action\"}, {\"id\": 12, \"nam...</td>\n",
       "      <td>http://www.avatarmovie.com/</td>\n",
       "      <td>19995</td>\n",
       "      <td>[{\"id\": 1463, \"name\": \"culture clash\"}, {\"id\":...</td>\n",
       "      <td>en</td>\n",
       "      <td>Avatar</td>\n",
       "      <td>In the 22nd century, a paraplegic Marine is di...</td>\n",
       "      <td>150.437577</td>\n",
       "      <td>[{\"name\": \"Ingenious Film Partners\", \"id\": 289...</td>\n",
       "      <td>...</td>\n",
       "      <td>162.0</td>\n",
       "      <td>[{\"iso_639_1\": \"en\", \"name\": \"English\"}, {\"iso...</td>\n",
       "      <td>Released</td>\n",
       "      <td>Enter the World of Pandora.</td>\n",
       "      <td>Avatar</td>\n",
       "      <td>7.2</td>\n",
       "      <td>11800</td>\n",
       "      <td>19995</td>\n",
       "      <td>[{\"cast_id\": 242, \"character\": \"Jake Sully\", \"...</td>\n",
       "      <td>[{\"credit_id\": \"52fe48009251416c750aca23\", \"de...</td>\n",
       "    </tr>\n",
       "  </tbody>\n",
       "</table>\n",
       "<p>1 rows × 23 columns</p>\n",
       "</div>"
      ],
      "text/plain": [
       "      budget                                             genres  \\\n",
       "0  237000000  [{\"id\": 28, \"name\": \"Action\"}, {\"id\": 12, \"nam...   \n",
       "\n",
       "                      homepage     id  \\\n",
       "0  http://www.avatarmovie.com/  19995   \n",
       "\n",
       "                                            keywords original_language  \\\n",
       "0  [{\"id\": 1463, \"name\": \"culture clash\"}, {\"id\":...                en   \n",
       "\n",
       "  original_title                                           overview  \\\n",
       "0         Avatar  In the 22nd century, a paraplegic Marine is di...   \n",
       "\n",
       "   popularity                               production_companies  ... runtime  \\\n",
       "0  150.437577  [{\"name\": \"Ingenious Film Partners\", \"id\": 289...  ...   162.0   \n",
       "\n",
       "                                    spoken_languages    status  \\\n",
       "0  [{\"iso_639_1\": \"en\", \"name\": \"English\"}, {\"iso...  Released   \n",
       "\n",
       "                       tagline   title vote_average vote_count movie_id  \\\n",
       "0  Enter the World of Pandora.  Avatar          7.2      11800    19995   \n",
       "\n",
       "                                                cast  \\\n",
       "0  [{\"cast_id\": 242, \"character\": \"Jake Sully\", \"...   \n",
       "\n",
       "                                                crew  \n",
       "0  [{\"credit_id\": \"52fe48009251416c750aca23\", \"de...  \n",
       "\n",
       "[1 rows x 23 columns]"
      ]
     },
     "execution_count": 5,
     "metadata": {},
     "output_type": "execute_result"
    }
   ],
   "source": [
    "# Printing one row of the \"movies\" data frame\n",
    "\n",
    "movies.head(1)"
   ]
  },
  {
   "cell_type": "code",
   "execution_count": 6,
   "id": "2451a144",
   "metadata": {},
   "outputs": [],
   "source": [
    "# Considering only the required details of the \"movies\" data frame and storing them back in same data frame\n",
    "\n",
    "movies = movies[[ 'id' , 'title' , 'overview' , 'genres' , 'keywords' , 'cast' , 'crew' ]]"
   ]
  },
  {
   "cell_type": "code",
   "execution_count": 7,
   "id": "ce84a539",
   "metadata": {},
   "outputs": [
    {
     "data": {
      "text/html": [
       "<div>\n",
       "<style scoped>\n",
       "    .dataframe tbody tr th:only-of-type {\n",
       "        vertical-align: middle;\n",
       "    }\n",
       "\n",
       "    .dataframe tbody tr th {\n",
       "        vertical-align: top;\n",
       "    }\n",
       "\n",
       "    .dataframe thead th {\n",
       "        text-align: right;\n",
       "    }\n",
       "</style>\n",
       "<table border=\"1\" class=\"dataframe\">\n",
       "  <thead>\n",
       "    <tr style=\"text-align: right;\">\n",
       "      <th></th>\n",
       "      <th>id</th>\n",
       "      <th>title</th>\n",
       "      <th>overview</th>\n",
       "      <th>genres</th>\n",
       "      <th>keywords</th>\n",
       "      <th>cast</th>\n",
       "      <th>crew</th>\n",
       "    </tr>\n",
       "  </thead>\n",
       "  <tbody>\n",
       "    <tr>\n",
       "      <th>0</th>\n",
       "      <td>19995</td>\n",
       "      <td>Avatar</td>\n",
       "      <td>In the 22nd century, a paraplegic Marine is di...</td>\n",
       "      <td>[{\"id\": 28, \"name\": \"Action\"}, {\"id\": 12, \"nam...</td>\n",
       "      <td>[{\"id\": 1463, \"name\": \"culture clash\"}, {\"id\":...</td>\n",
       "      <td>[{\"cast_id\": 242, \"character\": \"Jake Sully\", \"...</td>\n",
       "      <td>[{\"credit_id\": \"52fe48009251416c750aca23\", \"de...</td>\n",
       "    </tr>\n",
       "  </tbody>\n",
       "</table>\n",
       "</div>"
      ],
      "text/plain": [
       "      id   title                                           overview  \\\n",
       "0  19995  Avatar  In the 22nd century, a paraplegic Marine is di...   \n",
       "\n",
       "                                              genres  \\\n",
       "0  [{\"id\": 28, \"name\": \"Action\"}, {\"id\": 12, \"nam...   \n",
       "\n",
       "                                            keywords  \\\n",
       "0  [{\"id\": 1463, \"name\": \"culture clash\"}, {\"id\":...   \n",
       "\n",
       "                                                cast  \\\n",
       "0  [{\"cast_id\": 242, \"character\": \"Jake Sully\", \"...   \n",
       "\n",
       "                                                crew  \n",
       "0  [{\"credit_id\": \"52fe48009251416c750aca23\", \"de...  "
      ]
     },
     "execution_count": 7,
     "metadata": {},
     "output_type": "execute_result"
    }
   ],
   "source": [
    "movies.head(1)"
   ]
  },
  {
   "cell_type": "code",
   "execution_count": null,
   "id": "fec36b96",
   "metadata": {},
   "outputs": [],
   "source": []
  },
  {
   "cell_type": "code",
   "execution_count": 8,
   "id": "30680112",
   "metadata": {},
   "outputs": [
    {
     "data": {
      "text/plain": [
       "id          0\n",
       "title       0\n",
       "overview    3\n",
       "genres      0\n",
       "keywords    0\n",
       "cast        0\n",
       "crew        0\n",
       "dtype: int64"
      ]
     },
     "execution_count": 8,
     "metadata": {},
     "output_type": "execute_result"
    }
   ],
   "source": [
    "# Counting total number of null values in data\n",
    "\n",
    "movies.isnull().sum()"
   ]
  },
  {
   "cell_type": "code",
   "execution_count": 9,
   "id": "45c455ee",
   "metadata": {},
   "outputs": [],
   "source": [
    "# Removing null data and storing them back in \"movies\" data frame\n",
    "\n",
    "movies.dropna(inplace = True)"
   ]
  },
  {
   "cell_type": "code",
   "execution_count": 10,
   "id": "53c81079",
   "metadata": {},
   "outputs": [
    {
     "data": {
      "text/plain": [
       "id          0\n",
       "title       0\n",
       "overview    0\n",
       "genres      0\n",
       "keywords    0\n",
       "cast        0\n",
       "crew        0\n",
       "dtype: int64"
      ]
     },
     "execution_count": 10,
     "metadata": {},
     "output_type": "execute_result"
    }
   ],
   "source": [
    "movies.isnull().sum()"
   ]
  },
  {
   "cell_type": "code",
   "execution_count": 11,
   "id": "833231e0",
   "metadata": {},
   "outputs": [
    {
     "data": {
      "text/plain": [
       "0"
      ]
     },
     "execution_count": 11,
     "metadata": {},
     "output_type": "execute_result"
    }
   ],
   "source": [
    "# Checking the presence of duplicated data\n",
    "\n",
    "movies.duplicated().sum()"
   ]
  },
  {
   "cell_type": "code",
   "execution_count": 12,
   "id": "9afc0ebf",
   "metadata": {},
   "outputs": [
    {
     "data": {
      "text/html": [
       "<div>\n",
       "<style scoped>\n",
       "    .dataframe tbody tr th:only-of-type {\n",
       "        vertical-align: middle;\n",
       "    }\n",
       "\n",
       "    .dataframe tbody tr th {\n",
       "        vertical-align: top;\n",
       "    }\n",
       "\n",
       "    .dataframe thead th {\n",
       "        text-align: right;\n",
       "    }\n",
       "</style>\n",
       "<table border=\"1\" class=\"dataframe\">\n",
       "  <thead>\n",
       "    <tr style=\"text-align: right;\">\n",
       "      <th></th>\n",
       "      <th>id</th>\n",
       "      <th>title</th>\n",
       "      <th>overview</th>\n",
       "      <th>genres</th>\n",
       "      <th>keywords</th>\n",
       "      <th>cast</th>\n",
       "      <th>crew</th>\n",
       "    </tr>\n",
       "  </thead>\n",
       "  <tbody>\n",
       "    <tr>\n",
       "      <th>0</th>\n",
       "      <td>19995</td>\n",
       "      <td>Avatar</td>\n",
       "      <td>In the 22nd century, a paraplegic Marine is di...</td>\n",
       "      <td>[{\"id\": 28, \"name\": \"Action\"}, {\"id\": 12, \"nam...</td>\n",
       "      <td>[{\"id\": 1463, \"name\": \"culture clash\"}, {\"id\":...</td>\n",
       "      <td>[{\"cast_id\": 242, \"character\": \"Jake Sully\", \"...</td>\n",
       "      <td>[{\"credit_id\": \"52fe48009251416c750aca23\", \"de...</td>\n",
       "    </tr>\n",
       "  </tbody>\n",
       "</table>\n",
       "</div>"
      ],
      "text/plain": [
       "      id   title                                           overview  \\\n",
       "0  19995  Avatar  In the 22nd century, a paraplegic Marine is di...   \n",
       "\n",
       "                                              genres  \\\n",
       "0  [{\"id\": 28, \"name\": \"Action\"}, {\"id\": 12, \"nam...   \n",
       "\n",
       "                                            keywords  \\\n",
       "0  [{\"id\": 1463, \"name\": \"culture clash\"}, {\"id\":...   \n",
       "\n",
       "                                                cast  \\\n",
       "0  [{\"cast_id\": 242, \"character\": \"Jake Sully\", \"...   \n",
       "\n",
       "                                                crew  \n",
       "0  [{\"credit_id\": \"52fe48009251416c750aca23\", \"de...  "
      ]
     },
     "execution_count": 12,
     "metadata": {},
     "output_type": "execute_result"
    }
   ],
   "source": [
    "movies.head(1)"
   ]
  },
  {
   "cell_type": "code",
   "execution_count": null,
   "id": "dcf22a96",
   "metadata": {},
   "outputs": [],
   "source": []
  },
  {
   "cell_type": "code",
   "execution_count": 13,
   "id": "5523f879",
   "metadata": {},
   "outputs": [
    {
     "data": {
      "text/plain": [
       "'In the 22nd century, a paraplegic Marine is dispatched to the moon Pandora on a unique mission, but becomes torn between following orders and protecting an alien civilization.'"
      ]
     },
     "execution_count": 13,
     "metadata": {},
     "output_type": "execute_result"
    }
   ],
   "source": [
    "movies.iloc[0].overview"
   ]
  },
  {
   "cell_type": "code",
   "execution_count": 14,
   "id": "515dafa2",
   "metadata": {},
   "outputs": [
    {
     "data": {
      "text/plain": [
       "'[{\"id\": 28, \"name\": \"Action\"}, {\"id\": 12, \"name\": \"Adventure\"}, {\"id\": 14, \"name\": \"Fantasy\"}, {\"id\": 878, \"name\": \"Science Fiction\"}]'"
      ]
     },
     "execution_count": 14,
     "metadata": {},
     "output_type": "execute_result"
    }
   ],
   "source": [
    "movies.iloc[0].genres"
   ]
  },
  {
   "cell_type": "code",
   "execution_count": 15,
   "id": "cfa1d04f",
   "metadata": {},
   "outputs": [
    {
     "data": {
      "text/plain": [
       "'[{\"id\": 1463, \"name\": \"culture clash\"}, {\"id\": 2964, \"name\": \"future\"}, {\"id\": 3386, \"name\": \"space war\"}, {\"id\": 3388, \"name\": \"space colony\"}, {\"id\": 3679, \"name\": \"society\"}, {\"id\": 3801, \"name\": \"space travel\"}, {\"id\": 9685, \"name\": \"futuristic\"}, {\"id\": 9840, \"name\": \"romance\"}, {\"id\": 9882, \"name\": \"space\"}, {\"id\": 9951, \"name\": \"alien\"}, {\"id\": 10148, \"name\": \"tribe\"}, {\"id\": 10158, \"name\": \"alien planet\"}, {\"id\": 10987, \"name\": \"cgi\"}, {\"id\": 11399, \"name\": \"marine\"}, {\"id\": 13065, \"name\": \"soldier\"}, {\"id\": 14643, \"name\": \"battle\"}, {\"id\": 14720, \"name\": \"love affair\"}, {\"id\": 165431, \"name\": \"anti war\"}, {\"id\": 193554, \"name\": \"power relations\"}, {\"id\": 206690, \"name\": \"mind and soul\"}, {\"id\": 209714, \"name\": \"3d\"}]'"
      ]
     },
     "execution_count": 15,
     "metadata": {},
     "output_type": "execute_result"
    }
   ],
   "source": [
    "movies.iloc[0].keywords"
   ]
  },
  {
   "cell_type": "code",
   "execution_count": 16,
   "id": "078cd0e2",
   "metadata": {},
   "outputs": [
    {
     "data": {
      "text/plain": [
       "'[{\"credit_id\": \"52fe48009251416c750aca23\", \"department\": \"Editing\", \"gender\": 0, \"id\": 1721, \"job\": \"Editor\", \"name\": \"Stephen E. Rivkin\"}, {\"credit_id\": \"539c47ecc3a36810e3001f87\", \"department\": \"Art\", \"gender\": 2, \"id\": 496, \"job\": \"Production Design\", \"name\": \"Rick Carter\"}, {\"credit_id\": \"54491c89c3a3680fb4001cf7\", \"department\": \"Sound\", \"gender\": 0, \"id\": 900, \"job\": \"Sound Designer\", \"name\": \"Christopher Boyes\"}, {\"credit_id\": \"54491cb70e0a267480001bd0\", \"department\": \"Sound\", \"gender\": 0, \"id\": 900, \"job\": \"Supervising Sound Editor\", \"name\": \"Christopher Boyes\"}, {\"credit_id\": \"539c4a4cc3a36810c9002101\", \"department\": \"Production\", \"gender\": 1, \"id\": 1262, \"job\": \"Casting\", \"name\": \"Mali Finn\"}, {\"credit_id\": \"5544ee3b925141499f0008fc\", \"department\": \"Sound\", \"gender\": 2, \"id\": 1729, \"job\": \"Original Music Composer\", \"name\": \"James Horner\"}, {\"credit_id\": \"52fe48009251416c750ac9c3\", \"department\": \"Directing\", \"gender\": 2, \"id\": 2710, \"job\": \"Director\", \"name\": \"James Cameron\"}, {\"credit_id\": \"52fe48009251416c750ac9d9\", \"department\": \"Writing\", \"gender\": 2, \"id\": 2710, \"job\": \"Writer\", \"name\": \"James Cameron\"}, {\"credit_id\": \"52fe48009251416c750aca17\", \"department\": \"Editing\", \"gender\": 2, \"id\": 2710, \"job\": \"Editor\", \"name\": \"James Cameron\"}, {\"credit_id\": \"52fe48009251416c750aca29\", \"department\": \"Production\", \"gender\": 2, \"id\": 2710, \"job\": \"Producer\", \"name\": \"James Cameron\"}, {\"credit_id\": \"52fe48009251416c750aca3f\", \"department\": \"Writing\", \"gender\": 2, \"id\": 2710, \"job\": \"Screenplay\", \"name\": \"James Cameron\"}, {\"credit_id\": \"539c4987c3a36810ba0021a4\", \"department\": \"Art\", \"gender\": 2, \"id\": 7236, \"job\": \"Art Direction\", \"name\": \"Andrew Menzies\"}, {\"credit_id\": \"549598c3c3a3686ae9004383\", \"department\": \"Visual Effects\", \"gender\": 0, \"id\": 6690, \"job\": \"Visual Effects Producer\", \"name\": \"Jill Brooks\"}, {\"credit_id\": \"52fe48009251416c750aca4b\", \"department\": \"Production\", \"gender\": 1, \"id\": 6347, \"job\": \"Casting\", \"name\": \"Margery Simkin\"}, {\"credit_id\": \"570b6f419251417da70032fe\", \"department\": \"Art\", \"gender\": 2, \"id\": 6878, \"job\": \"Supervising Art Director\", \"name\": \"Kevin Ishioka\"}, {\"credit_id\": \"5495a0fac3a3686ae9004468\", \"department\": \"Sound\", \"gender\": 0, \"id\": 6883, \"job\": \"Music Editor\", \"name\": \"Dick Bernstein\"}, {\"credit_id\": \"54959706c3a3686af3003e81\", \"department\": \"Sound\", \"gender\": 0, \"id\": 8159, \"job\": \"Sound Effects Editor\", \"name\": \"Shannon Mills\"}, {\"credit_id\": \"54491d58c3a3680fb1001ccb\", \"department\": \"Sound\", \"gender\": 0, \"id\": 8160, \"job\": \"Foley\", \"name\": \"Dennie Thorpe\"}, {\"credit_id\": \"54491d6cc3a3680fa5001b2c\", \"department\": \"Sound\", \"gender\": 0, \"id\": 8163, \"job\": \"Foley\", \"name\": \"Jana Vance\"}, {\"credit_id\": \"52fe48009251416c750aca57\", \"department\": \"Costume & Make-Up\", \"gender\": 1, \"id\": 8527, \"job\": \"Costume Design\", \"name\": \"Deborah Lynn Scott\"}, {\"credit_id\": \"52fe48009251416c750aca2f\", \"department\": \"Production\", \"gender\": 2, \"id\": 8529, \"job\": \"Producer\", \"name\": \"Jon Landau\"}, {\"credit_id\": \"539c4937c3a36810ba002194\", \"department\": \"Art\", \"gender\": 0, \"id\": 9618, \"job\": \"Art Direction\", \"name\": \"Sean Haworth\"}, {\"credit_id\": \"539c49b6c3a36810c10020e6\", \"department\": \"Art\", \"gender\": 1, \"id\": 12653, \"job\": \"Set Decoration\", \"name\": \"Kim Sinclair\"}, {\"credit_id\": \"570b6f2f9251413a0e00020d\", \"department\": \"Art\", \"gender\": 1, \"id\": 12653, \"job\": \"Supervising Art Director\", \"name\": \"Kim Sinclair\"}, {\"credit_id\": \"54491a6c0e0a26748c001b19\", \"department\": \"Art\", \"gender\": 2, \"id\": 14350, \"job\": \"Set Designer\", \"name\": \"Richard F. Mays\"}, {\"credit_id\": \"56928cf4c3a3684cff0025c4\", \"department\": \"Production\", \"gender\": 1, \"id\": 20294, \"job\": \"Executive Producer\", \"name\": \"Laeta Kalogridis\"}, {\"credit_id\": \"52fe48009251416c750aca51\", \"department\": \"Costume & Make-Up\", \"gender\": 0, \"id\": 17675, \"job\": \"Costume Design\", \"name\": \"Mayes C. Rubeo\"}, {\"credit_id\": \"52fe48009251416c750aca11\", \"department\": \"Camera\", \"gender\": 2, \"id\": 18265, \"job\": \"Director of Photography\", \"name\": \"Mauro Fiore\"}, {\"credit_id\": \"5449194d0e0a26748f001b39\", \"department\": \"Art\", \"gender\": 0, \"id\": 42281, \"job\": \"Set Designer\", \"name\": \"Scott Herbertson\"}, {\"credit_id\": \"52fe48009251416c750aca05\", \"department\": \"Crew\", \"gender\": 0, \"id\": 42288, \"job\": \"Stunts\", \"name\": \"Woody Schultz\"}, {\"credit_id\": \"5592aefb92514152de0010f5\", \"department\": \"Costume & Make-Up\", \"gender\": 0, \"id\": 29067, \"job\": \"Makeup Artist\", \"name\": \"Linda DeVetta\"}, {\"credit_id\": \"5592afa492514152de00112c\", \"department\": \"Costume & Make-Up\", \"gender\": 0, \"id\": 29067, \"job\": \"Hairstylist\", \"name\": \"Linda DeVetta\"}, {\"credit_id\": \"54959ed592514130fc002e5d\", \"department\": \"Camera\", \"gender\": 2, \"id\": 33302, \"job\": \"Camera Operator\", \"name\": \"Richard Bluck\"}, {\"credit_id\": \"539c4891c3a36810ba002147\", \"department\": \"Art\", \"gender\": 2, \"id\": 33303, \"job\": \"Art Direction\", \"name\": \"Simon Bright\"}, {\"credit_id\": \"54959c069251417a81001f3a\", \"department\": \"Visual Effects\", \"gender\": 0, \"id\": 113145, \"job\": \"Visual Effects Supervisor\", \"name\": \"Richard Martin\"}, {\"credit_id\": \"54959a0dc3a3680ff5002c8d\", \"department\": \"Crew\", \"gender\": 2, \"id\": 58188, \"job\": \"Visual Effects Editor\", \"name\": \"Steve R. Moore\"}, {\"credit_id\": \"52fe48009251416c750aca1d\", \"department\": \"Editing\", \"gender\": 2, \"id\": 58871, \"job\": \"Editor\", \"name\": \"John Refoua\"}, {\"credit_id\": \"54491a4dc3a3680fc30018ca\", \"department\": \"Art\", \"gender\": 0, \"id\": 92359, \"job\": \"Set Designer\", \"name\": \"Karl J. Martin\"}, {\"credit_id\": \"52fe48009251416c750aca35\", \"department\": \"Camera\", \"gender\": 1, \"id\": 72201, \"job\": \"Director of Photography\", \"name\": \"Chiling Lin\"}, {\"credit_id\": \"52fe48009251416c750ac9ff\", \"department\": \"Crew\", \"gender\": 0, \"id\": 89714, \"job\": \"Stunts\", \"name\": \"Ilram Choi\"}, {\"credit_id\": \"54959c529251416e2b004394\", \"department\": \"Visual Effects\", \"gender\": 2, \"id\": 93214, \"job\": \"Visual Effects Supervisor\", \"name\": \"Steven Quale\"}, {\"credit_id\": \"54491edf0e0a267489001c37\", \"department\": \"Crew\", \"gender\": 1, \"id\": 122607, \"job\": \"Dialect Coach\", \"name\": \"Carla Meyer\"}, {\"credit_id\": \"539c485bc3a368653d001a3a\", \"department\": \"Art\", \"gender\": 2, \"id\": 132585, \"job\": \"Art Direction\", \"name\": \"Nick Bassett\"}, {\"credit_id\": \"539c4903c3a368653d001a74\", \"department\": \"Art\", \"gender\": 0, \"id\": 132596, \"job\": \"Art Direction\", \"name\": \"Jill Cormack\"}, {\"credit_id\": \"539c4967c3a368653d001a94\", \"department\": \"Art\", \"gender\": 0, \"id\": 132604, \"job\": \"Art Direction\", \"name\": \"Andy McLaren\"}, {\"credit_id\": \"52fe48009251416c750aca45\", \"department\": \"Crew\", \"gender\": 0, \"id\": 236696, \"job\": \"Motion Capture Artist\", \"name\": \"Terry Notary\"}, {\"credit_id\": \"54959e02c3a3680fc60027d2\", \"department\": \"Crew\", \"gender\": 2, \"id\": 956198, \"job\": \"Stunt Coordinator\", \"name\": \"Garrett Warren\"}, {\"credit_id\": \"54959ca3c3a3686ae300438c\", \"department\": \"Visual Effects\", \"gender\": 2, \"id\": 957874, \"job\": \"Visual Effects Supervisor\", \"name\": \"Jonathan Rothbart\"}, {\"credit_id\": \"570b6f519251412c74001b2f\", \"department\": \"Art\", \"gender\": 0, \"id\": 957889, \"job\": \"Supervising Art Director\", \"name\": \"Stefan Dechant\"}, {\"credit_id\": \"570b6f62c3a3680b77007460\", \"department\": \"Art\", \"gender\": 2, \"id\": 959555, \"job\": \"Supervising Art Director\", \"name\": \"Todd Cherniawsky\"}, {\"credit_id\": \"539c4a3ac3a36810da0021cc\", \"department\": \"Production\", \"gender\": 0, \"id\": 1016177, \"job\": \"Casting\", \"name\": \"Miranda Rivers\"}, {\"credit_id\": \"539c482cc3a36810c1002062\", \"department\": \"Art\", \"gender\": 0, \"id\": 1032536, \"job\": \"Production Design\", \"name\": \"Robert Stromberg\"}, {\"credit_id\": \"539c4b65c3a36810c9002125\", \"department\": \"Costume & Make-Up\", \"gender\": 2, \"id\": 1071680, \"job\": \"Costume Design\", \"name\": \"John Harding\"}, {\"credit_id\": \"54959e6692514130fc002e4e\", \"department\": \"Camera\", \"gender\": 0, \"id\": 1177364, \"job\": \"Steadicam Operator\", \"name\": \"Roberto De Angelis\"}, {\"credit_id\": \"539c49f1c3a368653d001aac\", \"department\": \"Costume & Make-Up\", \"gender\": 2, \"id\": 1202850, \"job\": \"Makeup Department Head\", \"name\": \"Mike Smithson\"}, {\"credit_id\": \"5495999ec3a3686ae100460c\", \"department\": \"Visual Effects\", \"gender\": 0, \"id\": 1204668, \"job\": \"Visual Effects Producer\", \"name\": \"Alain Lalanne\"}, {\"credit_id\": \"54959cdfc3a3681153002729\", \"department\": \"Visual Effects\", \"gender\": 0, \"id\": 1206410, \"job\": \"Visual Effects Supervisor\", \"name\": \"Lucas Salton\"}, {\"credit_id\": \"549596239251417a81001eae\", \"department\": \"Crew\", \"gender\": 0, \"id\": 1234266, \"job\": \"Post Production Supervisor\", \"name\": \"Janace Tashjian\"}, {\"credit_id\": \"54959c859251416e1e003efe\", \"department\": \"Visual Effects\", \"gender\": 0, \"id\": 1271932, \"job\": \"Visual Effects Supervisor\", \"name\": \"Stephen Rosenbaum\"}, {\"credit_id\": \"5592af28c3a368775a00105f\", \"department\": \"Costume & Make-Up\", \"gender\": 0, \"id\": 1310064, \"job\": \"Makeup Artist\", \"name\": \"Frankie Karena\"}, {\"credit_id\": \"539c4adfc3a36810e300203b\", \"department\": \"Costume & Make-Up\", \"gender\": 1, \"id\": 1319844, \"job\": \"Costume Supervisor\", \"name\": \"Lisa Lovaas\"}, {\"credit_id\": \"54959b579251416e2b004371\", \"department\": \"Visual Effects\", \"gender\": 0, \"id\": 1327028, \"job\": \"Visual Effects Supervisor\", \"name\": \"Jonathan Fawkner\"}, {\"credit_id\": \"539c48a7c3a36810b5001fa7\", \"department\": \"Art\", \"gender\": 0, \"id\": 1330561, \"job\": \"Art Direction\", \"name\": \"Robert Bavin\"}, {\"credit_id\": \"539c4a71c3a36810da0021e0\", \"department\": \"Costume & Make-Up\", \"gender\": 0, \"id\": 1330567, \"job\": \"Costume Supervisor\", \"name\": \"Anthony Almaraz\"}, {\"credit_id\": \"539c4a8ac3a36810ba0021e4\", \"department\": \"Costume & Make-Up\", \"gender\": 0, \"id\": 1330570, \"job\": \"Costume Supervisor\", \"name\": \"Carolyn M. Fenton\"}, {\"credit_id\": \"539c4ab6c3a36810da0021f0\", \"department\": \"Costume & Make-Up\", \"gender\": 0, \"id\": 1330574, \"job\": \"Costume Supervisor\", \"name\": \"Beth Koenigsberg\"}, {\"credit_id\": \"54491ab70e0a267480001ba2\", \"department\": \"Art\", \"gender\": 0, \"id\": 1336191, \"job\": \"Set Designer\", \"name\": \"Sam Page\"}, {\"credit_id\": \"544919d9c3a3680fc30018bd\", \"department\": \"Art\", \"gender\": 0, \"id\": 1339441, \"job\": \"Set Designer\", \"name\": \"Tex Kadonaga\"}, {\"credit_id\": \"54491cf50e0a267483001b0c\", \"department\": \"Editing\", \"gender\": 0, \"id\": 1352422, \"job\": \"Dialogue Editor\", \"name\": \"Kim Foscato\"}, {\"credit_id\": \"544919f40e0a26748c001b09\", \"department\": \"Art\", \"gender\": 0, \"id\": 1352962, \"job\": \"Set Designer\", \"name\": \"Tammy S. Lee\"}, {\"credit_id\": \"5495a115c3a3680ff5002d71\", \"department\": \"Crew\", \"gender\": 0, \"id\": 1357070, \"job\": \"Transportation Coordinator\", \"name\": \"Denny Caira\"}, {\"credit_id\": \"5495a12f92514130fc002e94\", \"department\": \"Crew\", \"gender\": 0, \"id\": 1357071, \"job\": \"Transportation Coordinator\", \"name\": \"James Waitkus\"}, {\"credit_id\": \"5495976fc3a36811530026b0\", \"department\": \"Sound\", \"gender\": 0, \"id\": 1360103, \"job\": \"Supervising Sound Editor\", \"name\": \"Addison Teague\"}, {\"credit_id\": \"54491837c3a3680fb1001c5a\", \"department\": \"Art\", \"gender\": 2, \"id\": 1376887, \"job\": \"Set Designer\", \"name\": \"C. Scott Baker\"}, {\"credit_id\": \"54491878c3a3680fb4001c9d\", \"department\": \"Art\", \"gender\": 0, \"id\": 1376888, \"job\": \"Set Designer\", \"name\": \"Luke Caska\"}, {\"credit_id\": \"544918dac3a3680fa5001ae0\", \"department\": \"Art\", \"gender\": 0, \"id\": 1376889, \"job\": \"Set Designer\", \"name\": \"David Chow\"}, {\"credit_id\": \"544919110e0a267486001b68\", \"department\": \"Art\", \"gender\": 0, \"id\": 1376890, \"job\": \"Set Designer\", \"name\": \"Jonathan Dyer\"}, {\"credit_id\": \"54491967c3a3680faa001b5e\", \"department\": \"Art\", \"gender\": 0, \"id\": 1376891, \"job\": \"Set Designer\", \"name\": \"Joseph Hiura\"}, {\"credit_id\": \"54491997c3a3680fb1001c8a\", \"department\": \"Art\", \"gender\": 0, \"id\": 1376892, \"job\": \"Art Department Coordinator\", \"name\": \"Rebecca Jellie\"}, {\"credit_id\": \"544919ba0e0a26748f001b42\", \"department\": \"Art\", \"gender\": 0, \"id\": 1376893, \"job\": \"Set Designer\", \"name\": \"Robert Andrew Johnson\"}, {\"credit_id\": \"54491b1dc3a3680faa001b8c\", \"department\": \"Art\", \"gender\": 0, \"id\": 1376895, \"job\": \"Assistant Art Director\", \"name\": \"Mike Stassi\"}, {\"credit_id\": \"54491b79c3a3680fbb001826\", \"department\": \"Art\", \"gender\": 0, \"id\": 1376897, \"job\": \"Construction Coordinator\", \"name\": \"John Villarino\"}, {\"credit_id\": \"54491baec3a3680fb4001ce6\", \"department\": \"Art\", \"gender\": 2, \"id\": 1376898, \"job\": \"Assistant Art Director\", \"name\": \"Jeffrey Wisniewski\"}, {\"credit_id\": \"54491d2fc3a3680fb4001d07\", \"department\": \"Editing\", \"gender\": 0, \"id\": 1376899, \"job\": \"Dialogue Editor\", \"name\": \"Cheryl Nardi\"}, {\"credit_id\": \"54491d86c3a3680fa5001b2f\", \"department\": \"Editing\", \"gender\": 0, \"id\": 1376901, \"job\": \"Dialogue Editor\", \"name\": \"Marshall Winn\"}, {\"credit_id\": \"54491d9dc3a3680faa001bb0\", \"department\": \"Sound\", \"gender\": 0, \"id\": 1376902, \"job\": \"Supervising Sound Editor\", \"name\": \"Gwendolyn Yates Whittle\"}, {\"credit_id\": \"54491dc10e0a267486001bce\", \"department\": \"Sound\", \"gender\": 0, \"id\": 1376903, \"job\": \"Sound Re-Recording Mixer\", \"name\": \"William Stein\"}, {\"credit_id\": \"54491f500e0a26747c001c07\", \"department\": \"Crew\", \"gender\": 0, \"id\": 1376909, \"job\": \"Choreographer\", \"name\": \"Lula Washington\"}, {\"credit_id\": \"549599239251412c4e002a2e\", \"department\": \"Visual Effects\", \"gender\": 0, \"id\": 1391692, \"job\": \"Visual Effects Producer\", \"name\": \"Chris Del Conte\"}, {\"credit_id\": \"54959d54c3a36831b8001d9a\", \"department\": \"Visual Effects\", \"gender\": 2, \"id\": 1391695, \"job\": \"Visual Effects Supervisor\", \"name\": \"R. Christopher White\"}, {\"credit_id\": \"54959bdf9251412c4e002a66\", \"department\": \"Visual Effects\", \"gender\": 0, \"id\": 1394070, \"job\": \"Visual Effects Supervisor\", \"name\": \"Dan Lemmon\"}, {\"credit_id\": \"5495971d92514132ed002922\", \"department\": \"Sound\", \"gender\": 0, \"id\": 1394129, \"job\": \"Sound Effects Editor\", \"name\": \"Tim Nielsen\"}, {\"credit_id\": \"5592b25792514152cc0011aa\", \"department\": \"Crew\", \"gender\": 0, \"id\": 1394286, \"job\": \"CG Supervisor\", \"name\": \"Michael Mulholland\"}, {\"credit_id\": \"54959a329251416e2b004355\", \"department\": \"Crew\", \"gender\": 0, \"id\": 1394750, \"job\": \"Visual Effects Editor\", \"name\": \"Thomas Nittmann\"}, {\"credit_id\": \"54959d6dc3a3686ae9004401\", \"department\": \"Visual Effects\", \"gender\": 0, \"id\": 1394755, \"job\": \"Visual Effects Supervisor\", \"name\": \"Edson Williams\"}, {\"credit_id\": \"5495a08fc3a3686ae300441c\", \"department\": \"Editing\", \"gender\": 0, \"id\": 1394953, \"job\": \"Digital Intermediate\", \"name\": \"Christine Carr\"}, {\"credit_id\": \"55402d659251413d6d000249\", \"department\": \"Visual Effects\", \"gender\": 0, \"id\": 1395269, \"job\": \"Visual Effects Supervisor\", \"name\": \"John Bruno\"}, {\"credit_id\": \"54959e7b9251416e1e003f3e\", \"department\": \"Camera\", \"gender\": 0, \"id\": 1398970, \"job\": \"Steadicam Operator\", \"name\": \"David Emmerichs\"}, {\"credit_id\": \"54959734c3a3686ae10045e0\", \"department\": \"Sound\", \"gender\": 0, \"id\": 1400906, \"job\": \"Sound Effects Editor\", \"name\": \"Christopher Scarabosio\"}, {\"credit_id\": \"549595dd92514130fc002d79\", \"department\": \"Production\", \"gender\": 0, \"id\": 1401784, \"job\": \"Production Supervisor\", \"name\": \"Jennifer Teves\"}, {\"credit_id\": \"549596009251413af70028cc\", \"department\": \"Production\", \"gender\": 0, \"id\": 1401785, \"job\": \"Production Manager\", \"name\": \"Brigitte Yorke\"}, {\"credit_id\": \"549596e892514130fc002d99\", \"department\": \"Sound\", \"gender\": 0, \"id\": 1401786, \"job\": \"Sound Effects Editor\", \"name\": \"Ken Fischer\"}, {\"credit_id\": \"549598229251412c4e002a1c\", \"department\": \"Crew\", \"gender\": 0, \"id\": 1401787, \"job\": \"Special Effects Coordinator\", \"name\": \"Iain Hutton\"}, {\"credit_id\": \"549598349251416e2b00432b\", \"department\": \"Crew\", \"gender\": 0, \"id\": 1401788, \"job\": \"Special Effects Coordinator\", \"name\": \"Steve Ingram\"}, {\"credit_id\": \"54959905c3a3686ae3004324\", \"department\": \"Visual Effects\", \"gender\": 0, \"id\": 1401789, \"job\": \"Visual Effects Producer\", \"name\": \"Joyce Cox\"}, {\"credit_id\": \"5495994b92514132ed002951\", \"department\": \"Visual Effects\", \"gender\": 0, \"id\": 1401790, \"job\": \"Visual Effects Producer\", \"name\": \"Jenny Foster\"}, {\"credit_id\": \"549599cbc3a3686ae1004613\", \"department\": \"Crew\", \"gender\": 0, \"id\": 1401791, \"job\": \"Visual Effects Editor\", \"name\": \"Christopher Marino\"}, {\"credit_id\": \"549599f2c3a3686ae100461e\", \"department\": \"Crew\", \"gender\": 0, \"id\": 1401792, \"job\": \"Visual Effects Editor\", \"name\": \"Jim Milton\"}, {\"credit_id\": \"54959a51c3a3686af3003eb5\", \"department\": \"Visual Effects\", \"gender\": 0, \"id\": 1401793, \"job\": \"Visual Effects Producer\", \"name\": \"Cyndi Ochs\"}, {\"credit_id\": \"54959a7cc3a36811530026f4\", \"department\": \"Crew\", \"gender\": 0, \"id\": 1401794, \"job\": \"Visual Effects Editor\", \"name\": \"Lucas Putnam\"}, {\"credit_id\": \"54959b91c3a3680ff5002cb4\", \"department\": \"Visual Effects\", \"gender\": 0, \"id\": 1401795, \"job\": \"Visual Effects Supervisor\", \"name\": \"Anthony \\'Max\\' Ivins\"}, {\"credit_id\": \"54959bb69251412c4e002a5f\", \"department\": \"Visual Effects\", \"gender\": 0, \"id\": 1401796, \"job\": \"Visual Effects Supervisor\", \"name\": \"John Knoll\"}, {\"credit_id\": \"54959cbbc3a3686ae3004391\", \"department\": \"Visual Effects\", \"gender\": 2, \"id\": 1401799, \"job\": \"Visual Effects Supervisor\", \"name\": \"Eric Saindon\"}, {\"credit_id\": \"54959d06c3a3686ae90043f6\", \"department\": \"Visual Effects\", \"gender\": 0, \"id\": 1401800, \"job\": \"Visual Effects Supervisor\", \"name\": \"Wayne Stables\"}, {\"credit_id\": \"54959d259251416e1e003f11\", \"department\": \"Visual Effects\", \"gender\": 0, \"id\": 1401801, \"job\": \"Visual Effects Supervisor\", \"name\": \"David Stinnett\"}, {\"credit_id\": \"54959db49251413af7002975\", \"department\": \"Visual Effects\", \"gender\": 0, \"id\": 1401803, \"job\": \"Visual Effects Supervisor\", \"name\": \"Guy Williams\"}, {\"credit_id\": \"54959de4c3a3681153002750\", \"department\": \"Crew\", \"gender\": 0, \"id\": 1401804, \"job\": \"Stunt Coordinator\", \"name\": \"Stuart Thorp\"}, {\"credit_id\": \"54959ef2c3a3680fc60027f2\", \"department\": \"Lighting\", \"gender\": 0, \"id\": 1401805, \"job\": \"Best Boy Electric\", \"name\": \"Giles Coburn\"}, {\"credit_id\": \"54959f07c3a3680fc60027f9\", \"department\": \"Camera\", \"gender\": 2, \"id\": 1401806, \"job\": \"Still Photographer\", \"name\": \"Mark Fellman\"}, {\"credit_id\": \"54959f47c3a3681153002774\", \"department\": \"Lighting\", \"gender\": 0, \"id\": 1401807, \"job\": \"Lighting Technician\", \"name\": \"Scott Sprague\"}, {\"credit_id\": \"54959f8cc3a36831b8001df2\", \"department\": \"Visual Effects\", \"gender\": 0, \"id\": 1401808, \"job\": \"Animation Director\", \"name\": \"Jeremy Hollobon\"}, {\"credit_id\": \"54959fa0c3a36831b8001dfb\", \"department\": \"Visual Effects\", \"gender\": 0, \"id\": 1401809, \"job\": \"Animation Director\", \"name\": \"Orlando Meunier\"}, {\"credit_id\": \"54959fb6c3a3686af3003f54\", \"department\": \"Visual Effects\", \"gender\": 0, \"id\": 1401810, \"job\": \"Animation Director\", \"name\": \"Taisuke Tanimura\"}, {\"credit_id\": \"54959fd2c3a36831b8001e02\", \"department\": \"Costume & Make-Up\", \"gender\": 0, \"id\": 1401812, \"job\": \"Set Costumer\", \"name\": \"Lilia Mishel Acevedo\"}, {\"credit_id\": \"54959ff9c3a3686ae300440c\", \"department\": \"Costume & Make-Up\", \"gender\": 0, \"id\": 1401814, \"job\": \"Set Costumer\", \"name\": \"Alejandro M. Hernandez\"}, {\"credit_id\": \"5495a0ddc3a3686ae10046fe\", \"department\": \"Editing\", \"gender\": 0, \"id\": 1401815, \"job\": \"Digital Intermediate\", \"name\": \"Marvin Hall\"}, {\"credit_id\": \"5495a1f7c3a3686ae3004443\", \"department\": \"Production\", \"gender\": 0, \"id\": 1401816, \"job\": \"Publicist\", \"name\": \"Judy Alley\"}, {\"credit_id\": \"5592b29fc3a36869d100002f\", \"department\": \"Crew\", \"gender\": 0, \"id\": 1418381, \"job\": \"CG Supervisor\", \"name\": \"Mike Perry\"}, {\"credit_id\": \"5592b23a9251415df8001081\", \"department\": \"Crew\", \"gender\": 0, \"id\": 1426854, \"job\": \"CG Supervisor\", \"name\": \"Andrew Morley\"}, {\"credit_id\": \"55491e1192514104c40002d8\", \"department\": \"Art\", \"gender\": 0, \"id\": 1438901, \"job\": \"Conceptual Design\", \"name\": \"Seth Engstrom\"}, {\"credit_id\": \"5525d5809251417276002b06\", \"department\": \"Crew\", \"gender\": 0, \"id\": 1447362, \"job\": \"Visual Effects Art Director\", \"name\": \"Eric Oliver\"}, {\"credit_id\": \"554427ca925141586500312a\", \"department\": \"Visual Effects\", \"gender\": 0, \"id\": 1447503, \"job\": \"Modeling\", \"name\": \"Matsune Suzuki\"}, {\"credit_id\": \"551906889251415aab001c88\", \"department\": \"Art\", \"gender\": 0, \"id\": 1447524, \"job\": \"Art Department Manager\", \"name\": \"Paul Tobin\"}, {\"credit_id\": \"5592af8492514152cc0010de\", \"department\": \"Costume & Make-Up\", \"gender\": 0, \"id\": 1452643, \"job\": \"Hairstylist\", \"name\": \"Roxane Griffin\"}, {\"credit_id\": \"553d3c109251415852001318\", \"department\": \"Lighting\", \"gender\": 0, \"id\": 1453938, \"job\": \"Lighting Artist\", \"name\": \"Arun Ram-Mohan\"}, {\"credit_id\": \"5592af4692514152d5001355\", \"department\": \"Costume & Make-Up\", \"gender\": 0, \"id\": 1457305, \"job\": \"Makeup Artist\", \"name\": \"Georgia Lockhart-Adams\"}, {\"credit_id\": \"5592b2eac3a36877470012a5\", \"department\": \"Crew\", \"gender\": 0, \"id\": 1466035, \"job\": \"CG Supervisor\", \"name\": \"Thrain Shadbolt\"}, {\"credit_id\": \"5592b032c3a36877450015f1\", \"department\": \"Crew\", \"gender\": 0, \"id\": 1483220, \"job\": \"CG Supervisor\", \"name\": \"Brad Alexander\"}, {\"credit_id\": \"5592b05592514152d80012f6\", \"department\": \"Crew\", \"gender\": 0, \"id\": 1483221, \"job\": \"CG Supervisor\", \"name\": \"Shadi Almassizadeh\"}, {\"credit_id\": \"5592b090c3a36877570010b5\", \"department\": \"Crew\", \"gender\": 0, \"id\": 1483222, \"job\": \"CG Supervisor\", \"name\": \"Simon Clutterbuck\"}, {\"credit_id\": \"5592b0dbc3a368774b00112c\", \"department\": \"Crew\", \"gender\": 0, \"id\": 1483223, \"job\": \"CG Supervisor\", \"name\": \"Graeme Demmocks\"}, {\"credit_id\": \"5592b0fe92514152db0010c1\", \"department\": \"Crew\", \"gender\": 0, \"id\": 1483224, \"job\": \"CG Supervisor\", \"name\": \"Adrian Fernandes\"}, {\"credit_id\": \"5592b11f9251415df8001059\", \"department\": \"Crew\", \"gender\": 0, \"id\": 1483225, \"job\": \"CG Supervisor\", \"name\": \"Mitch Gates\"}, {\"credit_id\": \"5592b15dc3a3687745001645\", \"department\": \"Crew\", \"gender\": 0, \"id\": 1483226, \"job\": \"CG Supervisor\", \"name\": \"Jerry Kung\"}, {\"credit_id\": \"5592b18e925141645a0004ae\", \"department\": \"Crew\", \"gender\": 0, \"id\": 1483227, \"job\": \"CG Supervisor\", \"name\": \"Andy Lomas\"}, {\"credit_id\": \"5592b1bfc3a368775d0010e7\", \"department\": \"Crew\", \"gender\": 0, \"id\": 1483228, \"job\": \"CG Supervisor\", \"name\": \"Sebastian Marino\"}, {\"credit_id\": \"5592b2049251415df8001078\", \"department\": \"Crew\", \"gender\": 0, \"id\": 1483229, \"job\": \"CG Supervisor\", \"name\": \"Matthias Menz\"}, {\"credit_id\": \"5592b27b92514152d800136a\", \"department\": \"Crew\", \"gender\": 0, \"id\": 1483230, \"job\": \"CG Supervisor\", \"name\": \"Sergei Nevshupov\"}, {\"credit_id\": \"5592b2c3c3a36869e800003c\", \"department\": \"Crew\", \"gender\": 0, \"id\": 1483231, \"job\": \"CG Supervisor\", \"name\": \"Philippe Rebours\"}, {\"credit_id\": \"5592b317c3a36877470012af\", \"department\": \"Crew\", \"gender\": 0, \"id\": 1483232, \"job\": \"CG Supervisor\", \"name\": \"Michael Takarangi\"}, {\"credit_id\": \"5592b345c3a36877470012bb\", \"department\": \"Crew\", \"gender\": 0, \"id\": 1483233, \"job\": \"CG Supervisor\", \"name\": \"David Weitzberg\"}, {\"credit_id\": \"5592b37cc3a368775100113b\", \"department\": \"Crew\", \"gender\": 0, \"id\": 1483234, \"job\": \"CG Supervisor\", \"name\": \"Ben White\"}, {\"credit_id\": \"573c8e2f9251413f5d000094\", \"department\": \"Crew\", \"gender\": 1, \"id\": 1621932, \"job\": \"Stunts\", \"name\": \"Min Windle\"}]'"
      ]
     },
     "execution_count": 16,
     "metadata": {},
     "output_type": "execute_result"
    }
   ],
   "source": [
    "movies.iloc[0].crew"
   ]
  },
  {
   "cell_type": "code",
   "execution_count": null,
   "id": "d87cebcb",
   "metadata": {},
   "outputs": [],
   "source": []
  },
  {
   "cell_type": "code",
   "execution_count": 17,
   "id": "af93a69f",
   "metadata": {},
   "outputs": [],
   "source": [
    "import ast"
   ]
  },
  {
   "cell_type": "code",
   "execution_count": 18,
   "id": "6331c879",
   "metadata": {},
   "outputs": [],
   "source": [
    "'''\n",
    "Function to get the exact details of \"genres\" and \"keywords\", extracting these details \n",
    "by converting them first from strings (they are stored as strings) to list of dictonaries\n",
    "'''\n",
    "\n",
    "def convert_to_list(obj):\n",
    "    l = []\n",
    "    for i in ast.literal_eval(obj):\n",
    "        l.append(i['name'])\n",
    "    return l"
   ]
  },
  {
   "cell_type": "code",
   "execution_count": 19,
   "id": "a90b2cb4",
   "metadata": {},
   "outputs": [],
   "source": [
    "# Applying the above function to both the \"genres\" and \"keywords\" of \"movies\" data frame\n",
    "\n",
    "movies['genres'] = movies['genres'].apply(convert_to_list)\n",
    "movies['keywords'] = movies['keywords'].apply(convert_to_list)"
   ]
  },
  {
   "cell_type": "code",
   "execution_count": 20,
   "id": "07097dec",
   "metadata": {},
   "outputs": [
    {
     "data": {
      "text/html": [
       "<div>\n",
       "<style scoped>\n",
       "    .dataframe tbody tr th:only-of-type {\n",
       "        vertical-align: middle;\n",
       "    }\n",
       "\n",
       "    .dataframe tbody tr th {\n",
       "        vertical-align: top;\n",
       "    }\n",
       "\n",
       "    .dataframe thead th {\n",
       "        text-align: right;\n",
       "    }\n",
       "</style>\n",
       "<table border=\"1\" class=\"dataframe\">\n",
       "  <thead>\n",
       "    <tr style=\"text-align: right;\">\n",
       "      <th></th>\n",
       "      <th>id</th>\n",
       "      <th>title</th>\n",
       "      <th>overview</th>\n",
       "      <th>genres</th>\n",
       "      <th>keywords</th>\n",
       "      <th>cast</th>\n",
       "      <th>crew</th>\n",
       "    </tr>\n",
       "  </thead>\n",
       "  <tbody>\n",
       "    <tr>\n",
       "      <th>0</th>\n",
       "      <td>19995</td>\n",
       "      <td>Avatar</td>\n",
       "      <td>In the 22nd century, a paraplegic Marine is di...</td>\n",
       "      <td>[Action, Adventure, Fantasy, Science Fiction]</td>\n",
       "      <td>[culture clash, future, space war, space colon...</td>\n",
       "      <td>[{\"cast_id\": 242, \"character\": \"Jake Sully\", \"...</td>\n",
       "      <td>[{\"credit_id\": \"52fe48009251416c750aca23\", \"de...</td>\n",
       "    </tr>\n",
       "  </tbody>\n",
       "</table>\n",
       "</div>"
      ],
      "text/plain": [
       "      id   title                                           overview  \\\n",
       "0  19995  Avatar  In the 22nd century, a paraplegic Marine is di...   \n",
       "\n",
       "                                          genres  \\\n",
       "0  [Action, Adventure, Fantasy, Science Fiction]   \n",
       "\n",
       "                                            keywords  \\\n",
       "0  [culture clash, future, space war, space colon...   \n",
       "\n",
       "                                                cast  \\\n",
       "0  [{\"cast_id\": 242, \"character\": \"Jake Sully\", \"...   \n",
       "\n",
       "                                                crew  \n",
       "0  [{\"credit_id\": \"52fe48009251416c750aca23\", \"de...  "
      ]
     },
     "execution_count": 20,
     "metadata": {},
     "output_type": "execute_result"
    }
   ],
   "source": [
    "movies.head(1)"
   ]
  },
  {
   "cell_type": "code",
   "execution_count": null,
   "id": "570effab",
   "metadata": {},
   "outputs": [],
   "source": []
  },
  {
   "cell_type": "code",
   "execution_count": 21,
   "id": "1424c8ff",
   "metadata": {},
   "outputs": [],
   "source": [
    "# Function to fetch top three cast of a movie\n",
    "\n",
    "def fetch_three_cast(obj):\n",
    "    l = []\n",
    "    count_number_of_cast = 0\n",
    "    for i in ast.literal_eval(obj):\n",
    "        l.append(i['name'])\n",
    "        count_number_of_cast += 1\n",
    "        if(count_number_of_cast == 3):\n",
    "            break\n",
    "    return l"
   ]
  },
  {
   "cell_type": "code",
   "execution_count": 22,
   "id": "072689bf",
   "metadata": {},
   "outputs": [],
   "source": [
    "# Applying the above function to \"cast\" of \"movies\" data frame\n",
    "\n",
    "movies['cast'] = movies['cast'].apply(fetch_three_cast)"
   ]
  },
  {
   "cell_type": "code",
   "execution_count": 23,
   "id": "c0f3566e",
   "metadata": {},
   "outputs": [
    {
     "data": {
      "text/html": [
       "<div>\n",
       "<style scoped>\n",
       "    .dataframe tbody tr th:only-of-type {\n",
       "        vertical-align: middle;\n",
       "    }\n",
       "\n",
       "    .dataframe tbody tr th {\n",
       "        vertical-align: top;\n",
       "    }\n",
       "\n",
       "    .dataframe thead th {\n",
       "        text-align: right;\n",
       "    }\n",
       "</style>\n",
       "<table border=\"1\" class=\"dataframe\">\n",
       "  <thead>\n",
       "    <tr style=\"text-align: right;\">\n",
       "      <th></th>\n",
       "      <th>id</th>\n",
       "      <th>title</th>\n",
       "      <th>overview</th>\n",
       "      <th>genres</th>\n",
       "      <th>keywords</th>\n",
       "      <th>cast</th>\n",
       "      <th>crew</th>\n",
       "    </tr>\n",
       "  </thead>\n",
       "  <tbody>\n",
       "    <tr>\n",
       "      <th>0</th>\n",
       "      <td>19995</td>\n",
       "      <td>Avatar</td>\n",
       "      <td>In the 22nd century, a paraplegic Marine is di...</td>\n",
       "      <td>[Action, Adventure, Fantasy, Science Fiction]</td>\n",
       "      <td>[culture clash, future, space war, space colon...</td>\n",
       "      <td>[Sam Worthington, Zoe Saldana, Sigourney Weaver]</td>\n",
       "      <td>[{\"credit_id\": \"52fe48009251416c750aca23\", \"de...</td>\n",
       "    </tr>\n",
       "  </tbody>\n",
       "</table>\n",
       "</div>"
      ],
      "text/plain": [
       "      id   title                                           overview  \\\n",
       "0  19995  Avatar  In the 22nd century, a paraplegic Marine is di...   \n",
       "\n",
       "                                          genres  \\\n",
       "0  [Action, Adventure, Fantasy, Science Fiction]   \n",
       "\n",
       "                                            keywords  \\\n",
       "0  [culture clash, future, space war, space colon...   \n",
       "\n",
       "                                               cast  \\\n",
       "0  [Sam Worthington, Zoe Saldana, Sigourney Weaver]   \n",
       "\n",
       "                                                crew  \n",
       "0  [{\"credit_id\": \"52fe48009251416c750aca23\", \"de...  "
      ]
     },
     "execution_count": 23,
     "metadata": {},
     "output_type": "execute_result"
    }
   ],
   "source": [
    "movies.head(1)"
   ]
  },
  {
   "cell_type": "code",
   "execution_count": null,
   "id": "1d93ca4d",
   "metadata": {},
   "outputs": [],
   "source": []
  },
  {
   "cell_type": "code",
   "execution_count": 24,
   "id": "8ce4d5c4",
   "metadata": {},
   "outputs": [],
   "source": [
    "# Function to fetch the name of director of a movie\n",
    "\n",
    "def fetch_director(obj):\n",
    "    l = []\n",
    "    for i in ast.literal_eval(obj):\n",
    "        if(i['job'] == 'Director'):\n",
    "            l.append(i['name'])\n",
    "            break\n",
    "    return l"
   ]
  },
  {
   "cell_type": "code",
   "execution_count": 25,
   "id": "52d0bc32",
   "metadata": {},
   "outputs": [],
   "source": [
    "# Applying the above function to \"crew\" of \"movies\" data frame\n",
    "\n",
    "movies['crew'] = movies['crew'].apply(fetch_director)"
   ]
  },
  {
   "cell_type": "code",
   "execution_count": 26,
   "id": "7e45576e",
   "metadata": {},
   "outputs": [
    {
     "data": {
      "text/plain": [
       "0           [James Cameron]\n",
       "1          [Gore Verbinski]\n",
       "2              [Sam Mendes]\n",
       "3       [Christopher Nolan]\n",
       "4          [Andrew Stanton]\n",
       "               ...         \n",
       "4804     [Robert Rodriguez]\n",
       "4805         [Edward Burns]\n",
       "4806          [Scott Smith]\n",
       "4807          [Daniel Hsia]\n",
       "4808     [Brian Herzlinger]\n",
       "Name: crew, Length: 4806, dtype: object"
      ]
     },
     "execution_count": 26,
     "metadata": {},
     "output_type": "execute_result"
    }
   ],
   "source": [
    "movies['crew']"
   ]
  },
  {
   "cell_type": "code",
   "execution_count": null,
   "id": "82bf78f3",
   "metadata": {},
   "outputs": [],
   "source": []
  },
  {
   "cell_type": "code",
   "execution_count": 27,
   "id": "75078fa3",
   "metadata": {},
   "outputs": [
    {
     "data": {
      "text/html": [
       "<div>\n",
       "<style scoped>\n",
       "    .dataframe tbody tr th:only-of-type {\n",
       "        vertical-align: middle;\n",
       "    }\n",
       "\n",
       "    .dataframe tbody tr th {\n",
       "        vertical-align: top;\n",
       "    }\n",
       "\n",
       "    .dataframe thead th {\n",
       "        text-align: right;\n",
       "    }\n",
       "</style>\n",
       "<table border=\"1\" class=\"dataframe\">\n",
       "  <thead>\n",
       "    <tr style=\"text-align: right;\">\n",
       "      <th></th>\n",
       "      <th>id</th>\n",
       "      <th>title</th>\n",
       "      <th>overview</th>\n",
       "      <th>genres</th>\n",
       "      <th>keywords</th>\n",
       "      <th>cast</th>\n",
       "      <th>crew</th>\n",
       "    </tr>\n",
       "  </thead>\n",
       "  <tbody>\n",
       "    <tr>\n",
       "      <th>0</th>\n",
       "      <td>19995</td>\n",
       "      <td>Avatar</td>\n",
       "      <td>In the 22nd century, a paraplegic Marine is di...</td>\n",
       "      <td>[Action, Adventure, Fantasy, Science Fiction]</td>\n",
       "      <td>[culture clash, future, space war, space colon...</td>\n",
       "      <td>[Sam Worthington, Zoe Saldana, Sigourney Weaver]</td>\n",
       "      <td>[James Cameron]</td>\n",
       "    </tr>\n",
       "  </tbody>\n",
       "</table>\n",
       "</div>"
      ],
      "text/plain": [
       "      id   title                                           overview  \\\n",
       "0  19995  Avatar  In the 22nd century, a paraplegic Marine is di...   \n",
       "\n",
       "                                          genres  \\\n",
       "0  [Action, Adventure, Fantasy, Science Fiction]   \n",
       "\n",
       "                                            keywords  \\\n",
       "0  [culture clash, future, space war, space colon...   \n",
       "\n",
       "                                               cast             crew  \n",
       "0  [Sam Worthington, Zoe Saldana, Sigourney Weaver]  [James Cameron]  "
      ]
     },
     "execution_count": 27,
     "metadata": {},
     "output_type": "execute_result"
    }
   ],
   "source": [
    "movies.head(1)"
   ]
  },
  {
   "cell_type": "code",
   "execution_count": null,
   "id": "8f827287",
   "metadata": {},
   "outputs": [],
   "source": []
  },
  {
   "cell_type": "code",
   "execution_count": 28,
   "id": "b34f7821",
   "metadata": {},
   "outputs": [],
   "source": [
    "movies['overview'] = movies['overview'].apply(lambda x:x.split(\" \"))"
   ]
  },
  {
   "cell_type": "code",
   "execution_count": 29,
   "id": "396b41d6",
   "metadata": {},
   "outputs": [
    {
     "data": {
      "text/html": [
       "<div>\n",
       "<style scoped>\n",
       "    .dataframe tbody tr th:only-of-type {\n",
       "        vertical-align: middle;\n",
       "    }\n",
       "\n",
       "    .dataframe tbody tr th {\n",
       "        vertical-align: top;\n",
       "    }\n",
       "\n",
       "    .dataframe thead th {\n",
       "        text-align: right;\n",
       "    }\n",
       "</style>\n",
       "<table border=\"1\" class=\"dataframe\">\n",
       "  <thead>\n",
       "    <tr style=\"text-align: right;\">\n",
       "      <th></th>\n",
       "      <th>id</th>\n",
       "      <th>title</th>\n",
       "      <th>overview</th>\n",
       "      <th>genres</th>\n",
       "      <th>keywords</th>\n",
       "      <th>cast</th>\n",
       "      <th>crew</th>\n",
       "    </tr>\n",
       "  </thead>\n",
       "  <tbody>\n",
       "    <tr>\n",
       "      <th>0</th>\n",
       "      <td>19995</td>\n",
       "      <td>Avatar</td>\n",
       "      <td>[In, the, 22nd, century,, a, paraplegic, Marin...</td>\n",
       "      <td>[Action, Adventure, Fantasy, Science Fiction]</td>\n",
       "      <td>[culture clash, future, space war, space colon...</td>\n",
       "      <td>[Sam Worthington, Zoe Saldana, Sigourney Weaver]</td>\n",
       "      <td>[James Cameron]</td>\n",
       "    </tr>\n",
       "  </tbody>\n",
       "</table>\n",
       "</div>"
      ],
      "text/plain": [
       "      id   title                                           overview  \\\n",
       "0  19995  Avatar  [In, the, 22nd, century,, a, paraplegic, Marin...   \n",
       "\n",
       "                                          genres  \\\n",
       "0  [Action, Adventure, Fantasy, Science Fiction]   \n",
       "\n",
       "                                            keywords  \\\n",
       "0  [culture clash, future, space war, space colon...   \n",
       "\n",
       "                                               cast             crew  \n",
       "0  [Sam Worthington, Zoe Saldana, Sigourney Weaver]  [James Cameron]  "
      ]
     },
     "execution_count": 29,
     "metadata": {},
     "output_type": "execute_result"
    }
   ],
   "source": [
    "movies.head(1)"
   ]
  },
  {
   "cell_type": "code",
   "execution_count": null,
   "id": "4ea1626a",
   "metadata": {},
   "outputs": [],
   "source": []
  },
  {
   "cell_type": "code",
   "execution_count": 30,
   "id": "e8d72178",
   "metadata": {},
   "outputs": [],
   "source": [
    "# Making copies of cast, crew and genres\n",
    "\n",
    "starring = movies['cast']\n",
    "director = movies['crew']\n",
    "genres_movie = movies['genres']"
   ]
  },
  {
   "cell_type": "code",
   "execution_count": 31,
   "id": "d5b1caba",
   "metadata": {},
   "outputs": [],
   "source": [
    "director_new = []\n",
    "for elem in director:\n",
    "    if elem not in director_new:\n",
    "        director_new.append(elem)"
   ]
  },
  {
   "cell_type": "code",
   "execution_count": 32,
   "id": "039102d2",
   "metadata": {},
   "outputs": [
    {
     "name": "stdout",
     "output_type": "stream",
     "text": [
      "[['James Cameron'], ['Gore Verbinski'], ['Sam Mendes'], ['Christopher Nolan'], ['Andrew Stanton'], ['Sam Raimi'], ['Byron Howard'], ['Joss Whedon'], ['David Yates'], ['Zack Snyder'], ['Bryan Singer'], ['Marc Forster'], ['Andrew Adamson'], ['Rob Marshall'], ['Barry Sonnenfeld'], ['Peter Jackson'], ['Marc Webb'], ['Ridley Scott'], ['Chris Weitz'], ['Anthony Russo'], ['Peter Berg'], ['Colin Trevorrow'], ['Shane Black'], ['Tim Burton'], ['Brett Ratner'], ['Dan Scanlon'], ['Michael Bay'], ['Joseph Kosinski'], ['John Lasseter'], ['Martin Campbell'], ['Lee Unkrich'], ['McG'], ['James Wan'], ['J.J. Abrams'], ['Baz Luhrmann'], ['Mike Newell'], ['Guillermo del Toro'], ['Steven Spielberg'], ['Peter Sohn'], ['Brenda Chapman'], ['Justin Lin'], ['Roland Emmerich'], ['Robert Zemeckis'], ['Lilly Wachowski'], ['Pete Docter'], ['Conrad Vernon'], ['Jon Favreau'], ['Martin Scorsese'], ['Rob Cohen'], ['David Ayer'], ['Tom Shadyac'], ['Doug Liman'], ['Kevin Reynolds'], ['Stephen Sommers'], ['Rupert Sanders'], ['Robert Stromberg'], ['Matt Reeves'], ['Roland Joffé'], ['Carl Rinsch'], ['Mike Mitchell'], ['Brad Bird'], ['Chris Williams'], ['Rich Moore'], ['Chris Sanders'], ['Jonathan Mostow'], ['James Gunn'], ['Hideaki Anno'], ['David Fincher'], ['Matthew Vaughn'], ['Francis Lawrence'], ['Jon Turteltaub'], ['Wolfgang Petersen'], ['James Bobin'], ['Chris Miller'], ['Duncan Jones'], ['Alan Taylor'], ['Michael Apted'], ['Oliver Stone'], ['Jan Pinkava'], ['Eric Darnell'], ['Shawn Levy'], ['Gavin Hood'], ['Chris Buck'], ['George Miller'], ['Ron Howard'], ['Kenneth Branagh'], ['Hoyt Yeatman'], ['Jonathan Liebesman'], ['Christopher McQuarrie'], ['Joe Johnston'], ['Steve Hickner'], ['Jennifer Yuh Nelson'], ['M. Night Shyamalan'], ['Simon Wells'], ['David Bowers'], ['Joe Wright'], ['Rob Minkoff'], ['Lee Tamahori'], ['Paul Feig'], ['Peter Ramsey'], ['Dean Parisot'], ['Edward Zwick'], ['Dean DeBlois'], ['Alex Proyas'], ['Richard Donner'], ['Ang Lee'], ['Jon M. Chu'], ['Breck Eisner'], ['Hironobu Sakaguchi'], ['Peter Weir'], ['Bill Condon'], ['Louis Leterrier'], ['Alejandro González Iñárritu'], ['David Soren'], ['Paul Greengrass'], ['Mark Osborne'], ['Peyton Reed'], ['Tim Johnson'], ['Phillip Noyce'], ['Darren Aronofsky'], ['Alfonso Cuarón'], ['Ralph Zondag'], ['Tom McGrath'], ['Chris Columbus'], ['Robert Schwentke'], ['Carlos Saldanha'], ['Guy Ritchie'], ['Paul Verhoeven'], ['John McTiernan'], ['Tony Gilroy'], ['Joel Schumacher'], ['John Woo'], ['Tim Story'], ['Mark Steven Johnson'], ['Neill Blomkamp'], ['David Twohy'], ['José Padilha'], ['James L. Brooks'], ['James Mangold'], ['George Lucas'], ['Thomas Langmann'], ['Cedric Nicolas-Troyan'], ['Roger Donaldson'], ['Dave Green'], ['Josh Trank'], ['Brad Peyton'], ['Roger Spottiswoode'], ['Steven Soderbergh'], ['Rob Letterman'], ['Michel Gondry'], ['Noam Murro'], ['Raja Gosnell'], ['Will Finn'], ['Jan de Bont'], ['Len Wiseman'], ['Frank Coraci'], ['Michael Mann'], ['Bo Welch'], ['Ron Clements'], ['Peter Chelsom'], ['Dominic Sena'], ['Tony Scott'], ['Paul Weitz'], ['Adam McKay'], ['Chuck Russell'], ['Quentin Tarantino'], ['Gary Trousdale'], ['Mark Dindal'], ['Simon West'], ['Stefen Fangmeier'], ['Spike Jonze'], ['Chris Wedge'], ['Florian Henckel von Donnersmarck'], ['Peter Hyams'], ['Tom Tykwer'], ['Pitof'], ['Brad Silberling'], ['Patrick Hughes'], ['Ericson Core'], ['Lawrence Guterman'], ['Ron Underwood'], ['Steve Martino'], ['David Mamet'], ['Zhang Yimou'], ['Ash Brannon'], ['Frank Oz'], ['Jay Roach'], ['Luc Besson'], ['Michael Patrick King'], ['Don Michael Paul'], ['Sergei Bodrov'], ['Wally Pfister'], ['Rupert Wyatt'], ['Mark Waters'], ['John Moore'], ['John Lee Hancock'], ['Renny Harlin'], ['Phil Lord'], ['Ben Stiller'], ['Tony Bancroft'], ['Timur Bekmambetov'], ['Walt Becker'], ['Dennis Dugan'], ['Sydney Pollack'], ['Thor Freudenthal'], ['Brian De Palma'], ['Mick Jackson'], ['Alan J. Pakula'], ['Kathryn Bigelow'], ['John Milius'], ['Andrei Konchalovsky'], ['Gary Ross'], ['Paul W.S. Anderson'], ['Genndy Tartakovsky'], ['Kevin Lima'], ['Daniel Espinosa'], ['Nancy Meyers'], ['Jill Culton'], ['Neil Burger'], ['Jean-Jacques Annaud'], ['Barry Cook'], ['Martin Brest'], ['Andrew Davis'], ['Bob Fosse'], ['Tarsem Singh'], ['Edgar Wright'], ['Jon Amiel'], ['Peter Segal'], ['Pete Travis'], ['George A. Romero'], ['Sylvester Stallone'], ['Todd Phillips'], ['Karey Kirkpatrick'], ['Gary Winick'], ['Mimi Leder'], ['Seth Gordon'], ['Adam Shankman'], ['D.J. Caruso'], ['Anthony Minghella'], ['Albert Hughes'], ['Les Mayfield'], ['Joe Pytka'], ['Scott Derrickson'], ['Ivan Reitman'], ['Eric Brevig'], ['Kelly Asbury'], ['Stephen Hopkins'], ['Jonathan Demme'], ['Henry Jaglom'], ['James Algar'], ['Vincent Ward'], ['Steven Brill'], ['Terry Gilliam'], ['Lucile Hadzihalilovic'], ['Roger Christian'], ['Joe Dante'], ['Kevin Costner'], ['Antony Hoffman'], ['Jacques Perrin'], ['Andrés Couturier'], ['Roger Allers'], ['Cody Cameron'], ['John Singleton'], ['Oliver Hirschbiegel'], ['Des McAnuff'], ['Chris Renaud'], ['Stephen Norrington'], ['Pierre Coffin'], ['David Kellogg'], ['Mike Nichols'], ['Vicky Jenson'], ['F. Gary Gray'], ['Antoine Fuqua'], ['Robert Luketic'], ['Gil Kenan'], ['Barry Levinson'], ['Jerry Zucker'], ['Andy Tennant'], ['Florent-Emilio Siri'], ['Gary Goldman'], ['Ron Shelton'], ['Àlex Pastor'], ['Henry Selick'], ['Kyle Balda'], ['Fergal Reilly'], ['Judd Apatow'], ['Steve Carr'], ['Mel Gibson'], ['David Silverman'], ['Frank Darabont'], ['Betty Thomas'], ['Garry Marshall'], ['Paul Tibbitt'], ['Clark Johnson'], ['Cameron Crowe'], ['Randall Wallace'], ['Jonathan Frakes'], ['George Clooney'], ['Gary Shore'], ['Andrzej Bartkowiak'], ['Måns Mårlind'], ['Gregory Hoblit'], ['Gary McKendry'], ['Wych Kaosayananda'], ['Mikael Salomon'], ['Bobby Farrelly'], ['Dan St. Pierre'], ['Kerry Conran'], ['Michael Caton-Jones'], ['Mikael Håfström'], ['Phil Alden Robinson'], ['David Slade'], ['Joseph Ruben'], ['Seth MacFarlane'], ['Alejandro Amenábar'], ['Kinka Usher'], ['Craig Gillespie'], ['Rob Bowman'], ['Doug Lefler'], ['Scott Waugh'], ['Lawrence Kasdan'], ['Michael Lembeck'], ['Tom Hooper'], ['Nora Ephron'], ['Angelina Jolie'], ['Clint Eastwood'], ['Larry Charles'], ['Stanley Kubrick'], ['Will Gluck'], ['Glenn Ficarra'], ['David S. Goyer'], ['Taylor Hackford'], ['Michael Lehmann'], ['Stuart Beattie'], ['Roman Polanski'], ['Robert Rodriguez'], ['Baltasar Kormákur'], ['Daniel Lee'], ['Keenen Ivory Wayans'], ['Rob Reiner'], ['Marco Schnabel'], ['Demian Lichtenstein'], ['Josh Gordon'], ['Tim Hill'], ['David Frankel'], ['Marc Lawrence'], ['Peter Billingsley'], ['Wes Ball'], ['Ryan Murphy'], ['Robert Redford'], ['Jay Russell'], ['Kenny Ortega'], ['David McNally'], ['Brian Robbins'], ['Brian Levant'], ['Steven Zaillian'], ['Sam Fell'], ['Jon Avnet'], ['Robert Stevenhagen'], ['Kevin Donovan'], ['Geoff Murphy'], ['David O. Russell'], ['Babak Najafi'], ['Jean-Pierre Jeunet'], ['Anthony Stacchi'], ['Griffin Dunne'], ['John Pasquin'], ['Ruben Fleischer'], ['Harold Ramis'], ['Kevin Macdonald'], ['Donald Petrie'], ['Jorge Blanco'], ['Stuart Baird'], ['Joel Coen'], ['Robert Lorenz'], ['Harold Becker'], ['Scott Stewart'], ['Tony Bill'], ['Rod Lurie'], ['Walter Hill'], ['Akiva Goldsman'], ['Harald Zwart'], ['Walter Salles'], ['Iain Softley'], ['Frank Miller'], ['David Koepp'], ['Uwe Boll'], ['Soi Cheang'], ['John Dahl'], ['Tim Miller'], ['Stephen Herek'], ['Peter MacDonald'], ['Anthony Hemingway'], ['Sean Anders'], ['Brian Taylor'], ['John Madden'], ['Kevin Bray'], ['Mike Gabriel'], ['Sam Weisman'], ['Jesse Dylan'], ['Wayne Wang'], ['Gabriele Muccino'], ['Tom Dey'], ['Jimmy Hayward'], ['Alan Parker'], ['John Frankenheimer'], ['Paul King'], ['Akiva Schaffer'], ['William Friedkin'], ['Kent Alterman'], ['Peter Lord'], ['Shekhar Kapur'], ['Karyn Kusama'], ['Ronald F. Maxwell'], ['Robert Butler'], ['Steve Antin'], ['Jim Gillespie'], ['Francis Ford Coppola'], ['Richard Lester'], ['Scott Cooper'], ['Curtis Hanson'], ['Phyllida Lloyd'], ['Jay Chandrasekhar'], ['Terrence Malick'], ['David Dobkin'], ['Miloš Forman'], ['Pierre Morel'], ['Paul Hunter'], ['Steve Oedekerk'], ['John Whitesell'], ['George Nolfi'], ['Neil Jordan'], ['Rawson Marshall Thurber'], ['Spike Lee'], ['Brian Helgeland'], ['Frank Marshall'], ['Hideo Nakata'], ['Peter Hewitt'], ['Joe Roth'], ['Bennett Miller'], ['Jaume Collet-Serra'], ['Andy Fickman'], ['James McTeigue'], [\"Matthew O'Callaghan\"], ['Angela Robinson'], ['Gary Fleder'], ['Tommy Wirkola'], ['Adrian Lyne'], ['Stephen Gaghan'], ['Jorge R. Gutierrez'], ['Richard Loncraine'], ['Christophe Gans'], ['Howard Deutch'], ['Jon Hurwitz'], ['Steven Quale'], ['John Landis'], ['Alexander Witt'], ['Beeban Kidron'], ['Carl Franklin'], ['Steven Seagal'], ['Danny Boyle'], ['Andrew Bergman'], ['Barbet Schroeder'], ['Peter Webber'], ['Andrew Niccol'], ['Bong Joon-ho'], ['John Carpenter'], ['Wes Anderson'], ['David Cronenberg'], ['John Stockwell'], ['David Gordon Green'], ['Jim Sheridan'], ['Costa-Gavras'], ['Patrick Read Johnson'], ['Richard LaGravenese'], ['Danny DeVito'], ['George Armitage'], ['Patrick Lussier'], ['James Wong'], ['Richard Curtis'], ['Chuck Bowman'], ['Olivier Megaton'], ['Deepa Mehta'], ['Warren Beatty'], ['Penny Marshall'], ['Ted Kotcheff'], ['Andrei Tarkovsky'], ['Yvette Kaplan'], ['Stephen Frears'], ['P.J. Hogan'], ['Brad Furman'], ['Terence Young'], ['David Zucker'], ['Denis Villeneuve'], ['Thomas Carter'], ['Roger Michell'], ['Luis Llosa'], ['Melville Shavelson'], ['Garth Jennings'], ['Joel Zwick'], ['Russell Mulcahy'], ['David R. Ellis'], ['Peter Howitt'], ['John A. Davis'], ['David Lynch'], ['Julie Taymor'], ['Mathieu Kassovitz'], ['John Gray'], ['John Schultz'], ['Sean Penn'], ['Susan Stroman'], ['Simon Wincer'], ['Billy Bob Thornton'], ['Danny Pang'], ['George P. Cosmatos'], ['Oliver Parker'], ['Lawrence Kasanoff'], ['Ben Affleck'], ['Brian Gibson'], ['Ben Sharpsteen'], ['Michael Cimino'], ['Paul McGuigan'], ['Gus Van Sant'], ['Roger Kumble'], ['Burr Steers'], ['Nick Park'], ['John Hamburg'], ['Reginald Hudlin'], ['Joseph L. Mankiewicz'], ['Barbra Streisand'], ['Mark Pellington'], ['John Glen'], ['Catherine Hardwicke'], ['John Herzfeld'], ['Annabel Jankel'], ['Julie Anne Robinson'], ['Seth Rogen'], ['Sngmoo Lee'], ['Jamel Debbouze'], ['Gordon Chan'], ['Asger Leth'], ['John G. Avildsen'], ['Anne Fletcher'], ['Bruce Beresford'], ['Sam Taylor-Johnson'], ['Ken Kwapis'], ['Wes Craven'], ['Etan Cohen'], ['Nick Cassavetes'], ['Nicholas Stoller'], ['Mark A.Z. Dippé'], ['Callan Brunker'], ['Nimród Antal'], ['Alejandro Agresti'], ['Peter Hedges'], ['Paul Weiland'], ['Colin Strause'], ['Joan Chen'], ['Greg Mottola'], ['Jake Kasdan'], ['Diane Keaton'], ['Kelly Makin'], ['Stephen Daldry'], ['Christian Duguay'], ['Justin Chadwick'], [\"Pat O'Connor\"], ['Frederik Du Chau'], ['Irwin Winkler'], ['Joseph Kahn'], ['Sofia Coppola'], ['Stephen T. Kay'], ['Juan Antonio Bayona'], ['Elaine May'], ['Dennie Gordon'], ['Charles Shyer'], ['Ulu Grosbard'], ['William Malone'], ['Malcolm D. Lee'], ['Jerry Jameson'], ['Mic Rodgers'], ['Christian Alvart'], ['Jean-Marie Poiré'], ['Marc F. Adler'], ['Geoffrey Sax'], ['Richard Shepard'], ['Peter Chan'], ['Sergei Bodrov Jr.'], ['Bibo Bergeron'], ['Jeff Nathanson'], ['S.S. Rajamouli'], ['Charles S. Dutton'], ['Jonathan Lynn'], ['David Carson'], ['Wong Kar-wai'], ['Yuefeng Song'], ['Norman Jewison'], ['David Mirkin'], ['Luis Mandoki'], ['Lee Daniels'], ['Jeb Stuart'], ['Steve Miner'], ['Paul Thomas Anderson'], ['David Leland'], ['J Blakeson'], ['Ryan Coogler'], ['Kirk Jones'], ['Jennifer Flackett'], ['Kevin Smith'], ['Christian Ditter'], ['Charles Martin Smith'], ['Fyodor Bondarchuk'], ['Irvin Kershner'], ['Steve Pink'], ['Scott Hicks'], ['Kirk De Micco'], ['Chris Rock'], ['Wilson Yip'], ['Leslie H. Martinson'], ['Robert Wise'], ['Kevin Rodney Sullivan'], ['Kevin Munroe'], ['Mike Tollin'], ['Patrick Tatopoulos'], ['Gary David Goldberg'], ['Tobe Hooper'], ['Alan Poul'], ['Luke Greenfield'], ['Gil Junger'], ['Michael Ritchie'], ['Steven E. de Souza'], ['Alexandre Aja'], ['Michael Rymer'], ['Hugh Wilson'], ['Mike Hodges'], ['Scott Mann'], ['Susanna White'], ['Chris Carter'], [\"Tommy O'Haver\"], ['Peter Landesman'], ['Gary Chapman'], ['Craig Mazin'], ['Allen Hughes'], ['Kimble Rendall'], ['Peter Yates'], ['Lasse Hallström'], ['Jean-Marc Vallée'], ['Tsui Hark'], ['Lexi Alexander'], ['Ronny Yu'], ['Bille August'], ['Moustapha Akkad'], ['Jean-Paul Rappeneau'], ['Joachim Rønning'], ['Tony Kaye'], ['Ken Scott'], ['Hugh Johnson'], ['Hayao Miyazaki'], ['George Tillman, Jr.'], ['Rand Ravich'], ['Hugh Hudson'], ['Ben Stassen'], ['Chris Gorak'], ['Scott Speer'], ['Joe Charbanic'], ['Jonathan Hensleigh'], ['Danny Cannon'], ['Boaz Yakin'], ['Richard Marquand'], ['Neil Marshall'], ['David Wain'], ['Jared Hess'], ['Rupert Wainwright'], ['John Luessenhop'], ['Justin Zackham'], ['John Gatins'], ['Miguel Sapochnik'], ['Shim Hyung-Rae'], ['Don Scardino'], ['Tim Robbins'], ['Tom Reeve'], ['Nanette Burstein'], ['Ariel Vromen'], ['Lewis Gilbert'], ['John Francis Daley'], ['J.B. Rogers'], ['Michael Sucsy'], ['Tom Vaughan'], ['Stephen Hillenburg'], ['Stig Bergqvist'], ['Jason Reitman'], ['Alexander Payne'], ['Jonathan Levine'], ['Rian Johnson'], ['Chris Noonan'], ['Michael McCullers'], ['Forest Whitaker'], ['Woody Allen'], ['Peter Lepeniotis'], ['Ted Demme'], ['William Shatner'], ['James Gartner'], ['Lee Toland Krieger'], ['Tim McCanlies'], ['Drew Goddard'], ['Jason Friedberg'], ['Paul Michael Glaser'], ['John R. Leonetti'], ['Tom Hanks'], ['Kimberly Peirce'], ['Liz Friedlander'], ['Phil Joanou'], ['Shane Acker'], ['Martha Coolidge'], ['Stephen Anderson'], ['Troy Miller'], ['Tate Taylor'], ['Brett Leonard'], ['Alister Grierson'], ['Nick Hurran'], ['Charles Stone III'], ['Paul Haggis'], ['Kurt Wimmer'], ['Jean-François Richet'], ['Kevin Hooks'], ['Ellory Elkayem'], ['Niki Caro'], ['Vincenzo Natali'], ['Willard Huyck'], [\"Gavin O'Connor\"], ['Bruce Hunt'], ['Christopher Roberts'], ['Kim Jee-woon'], ['Nick Hamm'], ['Andy Cadiff'], ['Mike Disa'], ['Richard J. Lewis'], ['Sergio Leone'], ['Niels Arden Oplev'], ['Michael Radford'], ['Steve Boyum'], ['Chen Kaige'], ['Corey Yuen Kwai'], ['Andrew Dominik'], ['Jackie Chan'], ['Laurent Tirard'], ['Reinhard Klooss'], ['Frédéric Auburtin'], ['Olivier Dahan'], ['Maksim Fadeev'], ['Liliana Cavani'], ['Elizabeth Banks'], ['Edward Norton'], ['Ben Falcone'], ['Richard Attenborough'], ['Don Mancini'], ['John Maybury'], ['Norton Virgien'], ['Shinji Aramaki'], ['Miguel Arteta'], ['James Gray'], ['Janusz Kamiński'], ['Robert B. Weide'], ['Jeff Wadlow'], ['Agustín Díaz Yanes'], ['Camille Delamarre'], ['David Lean'], ['Richard Eyre'], ['Nicholas Meyer'], ['Callie Khouri'], ['Sanaa Hamri'], ['Todd Graff'], ['Philip Kaufman'], ['Saul Dibb'], ['Walter Murch'], ['Richard Linklater'], ['E. Elias Merhige'], ['Menno Meyjes'], ['Jodie Foster'], ['Scott Frank'], ['Kevin Allen'], ['Michael Cristofer'], ['Andrew Morahan'], ['Bob Rafelson'], ['Michael Cohn'], ['Alan Shapiro'], ['Fernando Meirelles'], ['Michael Hoffman'], ['Oleg Stepchenko'], ['Michael Winterbottom'], ['Michael Pressman'], ['Sharon Maguire'], ['Charles Herman-Wurmfeld'], ['Gábor Csupó'], ['Tyler Perry'], ['Joe Carnahan'], ['John Polson'], ['Bernardo Bertolucci'], ['Cathy Malkasian'], ['Chris Nahon'], ['Fred Wolf'], ['Bille Woodruff'], ['Victor Salva'], ['Mark Helfrich'], ['Steve Bendelack'], ['Dwight H. Little'], ['Guillaume Canet'], ['Kirsten Sheridan'], ['Richard Fleischer'], ['Bob Spiers'], ['Damien Dante Wayans'], ['John Wells'], ['Tim Fywell'], ['Nigel Cole'], ['Dexter Fletcher'], ['Jeremy Leven'], ['Sylvain White'], ['Troy Nixey'], ['Philip G. Atwell'], ['Jeff Schaffer'], ['James Bridges'], ['Steve Barron'], ['Bill Paxton'], ['Richard Kelly'], ['Carter Smith'], ['John Schlesinger'], ['Ringo Lam'], ['Bruce McCulloch'], ['Patricia Riggen'], ['Pascal Chaumeil'], ['Jonathan Kaplan'], ['Ole Bornedal'], ['Richard Benjamin'], ['Craig R. Baxley'], ['John Hillcoat'], ['John Guillermin'], ['Marcos Siega'], ['Rachel Talalay'], ['Jeffrey W. Byrd'], ['Atom Egoyan'], ['Robert Towne'], ['Giuseppe Tornatore'], ['Werner Herzog'], ['Jérôme Deschamps'], ['Inna Evlannikova'], ['Jonathan English'], ['Sergey Bondarchuk'], ['Teddy Chan'], ['Mario Van Peebles'], ['Leonard Nimoy'], ['Herbert Ross'], ['Bonnie Hunt'], ['Neil LaBute'], ['Grant Heslov'], ['George Gallo'], ['Sidney Lumet'], ['Douglas McGrath'], ['Kevin Spacey'], ['Richard Williams'], ['Mary McGuckian'], ['Tony Goldwyn'], ['Jonathan Newman'], ['Michael Dinner'], ['Joseph Sargent'], ['Jerry Zaks'], ['Fred Durst'], ['Anne Fontaine'], ['Jon Cassar'], ['Mira Nair'], ['Mel Brooks'], ['Russell Crowe'], ['Jessie Nelson'], ['Christopher Spencer'], ['Mike Bigelow'], ['Daniel Sackheim'], ['Deborah Kaplan'], ['Uli Edel'], ['Fred Dekker'], ['Brian Trenchard-Smith'], ['Blake Edwards'], ['Laurence Dunmore'], ['Christian Carion'], ['Dax Shepard'], ['Rowan Joffe'], ['John Curran'], ['Juan José Campanella'], ['Trey Parker'], ['Stuart Gillard'], ['Katt Shea'], ['Joshua Michael Stern'], ['Tomas Alfredson'], ['John Duigan'], ['Colin Higgins'], ['Jim Sonzero'], ['Penelope Spheeris'], ['Jeff Tremaine'], ['Jeannot Szwarc'], ['Steve McQueen'], ['Thea Sharrock'], ['Jon Lucas'], ['Robin Budd'], ['Ava DuVernay'], ['Steve Trenbirth'], ['Mennan Yapo'], ['Jun Falkenstein'], ['Tom McCarthy'], ['Takashi Shimizu'], ['Gary Nelson'], ['Anton Corbijn'], ['Gregory Nava'], ['John Patrick Shanley'], ['Joshua Logan'], ['Steve Beck'], ['Todd Strauss-Schulson'], ['John McNaughton'], ['Nelson McCormick'], ['Eric Valette'], ['Andrew Fleming'], ['Michael Spierig'], ['Jim Field Smith'], ['Thomas Bezucha'], ['William Brent Bell'], ['Ben Gluck'], ['Jessica Bendinger'], ['Henry Joost'], ['Ed Harris'], ['Alfred Hitchcock'], ['Shana Feste'], ['Steve Rash'], ['Mike Binder'], ['Michael J. Bassett'], ['Frank Nissen'], ['Stephen Chow'], ['Peter Hastings'], ['Paul Abascal'], ['Chris Koch'], ['Amy Heckerling'], ['Michael Moore'], ['George Stevens'], ['Billy Ray'], ['Mark Mylod'], ['Stephen St. Leger'], ['Michael O. Sajbel'], ['Charles T. Kanganis'], ['Damon Santostefano'], ['Bob Clark'], ['Frank Passingham'], ['Benson Lee'], ['Glen Morgan'], ['Mike Leigh'], ['Alejandro Monteverde'], ['Jonathan Glazer'], ['J.C. Chandor'], ['Paul Gross'], ['Marc Abraham'], ['Todd Haynes'], ['Mabrouk El Mechri'], ['Charlie Kaufman'], ['Nancy Walker'], ['Angelo Pizzo'], ['Matthew Diamond'], ['Katsuhiro Ōtomo'], ['David Anspaugh'], ['Andrew Jarecki'], ['Daniel Algrant'], ['Mike Barker'], ['Wayne Thornley'], ['Gnana Rajasekaran'], ['Tom Walsh'], ['Jonathan Jakubowicz'], ['Scott Walker'], ['Mark Rosman'], ['Rob Hawk'], ['Britt Allcroft'], ['Alan Yuen'], ['Brian Percival'], ['Anand Tucker'], ['Anthony Mann'], ['Michael Dowse'], ['Daniel Barnz'], ['Emile Ardolino'], ['Robert Altman'], ['James Schamus'], ['Andrew Douglas'], ['Ricky Gervais'], ['Vic Armstrong'], ['Terry Zwigoff'], ['Audrey Wells'], ['Rick Friedberg'], ['Sean McNamara'], ['Jody Hill'], ['Brandon Camp'], ['Kevin Tancharoen'], ['Nicholas Hytner'], ['Bart Freundlich'], ['William A. Fraker'], ['John Boorman'], ['Courtney Solomon'], ['Jeff Kanew'], ['István Szabó'], ['Matthew Robbins'], ['Hal Needham'], ['Jeff Nichols'], ['Jonathan Teplitzky'], ['Michael Haneke'], ['Zack Ward'], ['Mike Marvin'], ['Gregor Jordan'], ['Olivier Assayas'], ['Tran Anh Hung'], ['Lance Hool'], ['Christian Volckman'], ['Rodrigo Cortés'], ['David Hayter'], ['Cory Edwards'], ['Terry George'], ['Xavier Gens'], ['Kasi Lemmons'], ['Brian A Miller'], ['Matt Dillon'], ['George Cukor'], ['John Robert Hoffman'], ['Kevin Greutert'], ['John Fortenberry'], ['Erik White'], ['Christian Robinson'], ['Jason Moore'], ['Robert Harmon'], ['Trent Cooper'], ['Gary Halvorson'], ['Nicholas Ray'], ['Fede Alvarez'], ['Sidney J. Furie'], ['Ian Iqbal Rashid'], ['Wayne Kramer'], ['Rowdy Herrington'], ['Jim Goddard'], ['Noel Marshall'], ['Andrea Di Stefano'], ['Guillaume Ivernel'], ['Jack Smight'], ['Todd Lincoln '], ['Howard Zieff'], ['Steven Shainberg'], ['Julian Jarrold'], ['Joe Nussbaum'], ['Vadim Perelman'], ['Michel Hazanavicius'], ['Cyrus Nowrasteh'], ['Perry Andelin Blake'], ['Christian E. Christiansen'], ['Sheldon Lettich'], ['Diane English'], ['Peter Flinth'], ['Robert Iscove'], ['Peter Kosminsky'], ['Nick Gomez'], ['Allen Coulter'], ['Clare Kilner'], ['Josef Rusnak'], ['Lance Rivera'], ['Ronald Neame'], ['Bruce Paltrow'], ['Adam Rifkin'], ['Susanne Bier'], ['Kenneth Johnson'], ['James Ivory'], ['Jessy Terrero'], ['Dany Boon'], ['Vicente Amorim'], ['Gaspar Noé'], ['Jérôme Salle'], ['Tommy Lee Jones'], ['Jesse Vaughan'], ['William Bindley'], ['Wayne Beach'], ['Gérard Krawczyk'], ['Udayan Prasad'], ['Yoon Je-kyoon'], ['Morten Tyldum'], ['Andy Muschietti'], ['Gillian Armstrong'], ['James Watkins'], ['Jim Fall'], ['Ric Roman Waugh'], ['Michael Dougherty'], ['Joel Gallen'], ['James Marsh'], ['Matt Williams'], ['Rob Zombie'], ['Dennis Iliadis'], ['Rick Rosenthal'], ['Denzel Washington'], ['Nicolas Winding Refn'], ['Sara Sugarman'], ['Juan Carlos Fresnadillo'], ['Gina Prince-Bythewood'], ['Phil Traill'], ['Joe Berlinger'], ['Elizabeth Allen Rosenbaum'], ['Michael Mayer'], ['Martin Weisz'], ['John Ottman'], ['John Bonito'], ['Peter Atencio'], ['David Nutter'], ['Derek Cianfrance'], ['Stephan Elliott'], ['Mark L. Lester'], ['Tom Green'], ['Mike Nawrocki'], ['Douglas Aarniokoski'], ['Bryan Barber'], ['Lone Scherfig'], ['Drew Barrymore'], ['Brian Koppelman'], ['James Foley'], ['Albert Brooks'], ['Steve Gomer'], ['RZA'], ['Mark Piznarski'], ['Craig Brewer'], ['David Raynr'], ['Mort Nathan'], ['Dan Curtis'], ['Wil Shriner'], ['Martin McDonagh'], ['Tina Gordon Chism'], ['Peter Cattaneo'], ['Mary Lambert'], ['Peter Kassovitz'], ['Rodman Flender'], ['Katja von Garnier'], ['Mark Romanek'], ['Brad Anderson'], ['Michael Chapman'], ['Antonio Banderas'], ['Khalil Sullins'], ['Fritz Lang'], ['Hou Hsiao-hsien'], ['Andrey Zvyagintsev'], ['Tony Jaa'], ['Ryûhei Kitamura'], ['Darrell James Roodt'], ['Dito Montiel'], ['Stefan Ruzowitzky'], ['Jake Paltrow'], ['Juraj Jakubisko'], ['Anthony Silverston'], ['Gabe Ibáñez'], ['Gerry Lively'], ['Derek Yee Tung-Sing'], ['Julien Temple'], ['Gregory Jacobs'], ['Gilles Paquet-Brenner'], ['Peter Cousens'], ['Lars von Trier'], ['John Cornell'], ['Vidhu Vinod Chopra'], ['Jamie Blanks'], ['Randal Kleiser'], ['Phil Vischer'], ['Rick Famuyiwa'], ['Alan Cohn'], ['Franco Zeffirelli'], ['Tom Holland'], ['James Isaac'], ['Emilio Estevez'], ['Josh Schwartz'], ['Julian Schnabel'], ['Todd Field'], ['Davis Guggenheim'], ['Stephen Carpenter'], ['James Fargo'], ['Alain Resnais'], ['Kenneth Lonergan'], ['Bo Zenga'], ['Danny Leiner'], ['Christopher Cain'], ['Theodore Melfi'], ['Ed Decter'], ['Gene Quintano'], ['Eric Bress'], ['Preston A. Whitmore II'], ['Kirk Wong'], ['Bronwen Hughes'], ['John Lafia'], ['Sam Miller'], ['Alex Garland'], ['Mark Brown'], ['Michael Polish'], ['Daisy von Scherler Mayer'], ['Lenny Abrahamson'], ['Bob Saget'], ['John Waters'], ['Craig Bolotin'], ['Mark Christopher'], ['Blair Hayes'], ['Jez Butterworth'], ['Isabel Coixet'], ['Patrice Leconte'], ['Paul Mazursky'], ['Stephen Chbosky'], ['Jon Hess'], ['Mark Neveldine'], ['Joe Cornish'], ['John H. Lee'], ['John Stainton'], ['Benedek Fliegauf'], ['Paul Schrader'], ['Stewart Hendler'], ['John Cromwell'], ['Mark Herman'], ['Abel Ferrara'], ['George Hickenlooper'], ['Don Bluth'], ['Kang Je-gyu'], ['William Dear'], ['Stéphane Aubier'], ['John Badham'], ['Mike McCoy'], ['Mike Judge'], ['Tamra Davis'], ['Nima Nourizadeh'], ['Franklin J. Schaffner'], ['John Erick Dowdle'], ['David Moreau'], ['Christopher Erskin'], ['Brian Henson'], ['Dan Cutforth'], ['Josh Boone'], ['Jake Schreier'], ['Cheryl Dunye'], ['Ernest R. Dickerson'], ['Lionel C. Martin'], ['Wallace Wolodarsky'], ['Nicholas Jarecki'], ['Dean Israelite'], ['Darnell Martin'], ['Scott Alexander'], ['Stuart Gordon'], ['Christopher Guest'], ['Jane Campion'], ['Fred Schepisi'], ['Antonia Bird'], ['Jon Poll'], ['Paolo Sorrentino'], ['Peter Care'], ['Park Chan-wook'], ['Ira Sachs'], ['Carroll Ballard'], ['Takeshi Kitano'], ['Marco Kreuzpaintner'], ['Lajos Koltai'], ['Alan Rudolph'], ['Lu Chuan'], ['Lijun Sun'], ['Takashi Yamazaki'], ['Christopher Smith'], ['Timothy Hines'], ['David Winters'], ['Akira Kurosawa'], ['Jamie Thraves'], ['Mabel Cheung'], ['Dan Mazer'], ['R.J. Cutler'], ['David S. Ward'], ['Barnaby Thompson'], ['Rob Pritts'], ['John Crowley'], ['Brendan Malloy'], ['Dustin Hoffman'], ['Gregory Poirier'], ['Simon Curtis'], ['Dewey Nicks'], ['Philip Saville'], ['Tim Blake Nelson'], ['William A. Graham'], ['Martin Ritt'], ['John Turturro'], ['Agnieszka Holland'], ['David Hackl'], ['Giuliano Montaldo'], ['Lisa Azuelos'], ['Ray Lawrence'], ['Karan Johar'], ['Ruairi Robinson'], ['Jaume Balagueró'], ['Jon Kasdan'], ['Léa Pool'], ['Floyd Mutrux'], ['Sajid Khan'], ['Dean Wright'], ['Eric Lartigau'], ['Shintaro Shimosawa'], ['Darren Lynn Bousman'], ['James DeMonaco'], ['Bernhard Wicki'], ['Carol Reed'], ['Chuck Sheetz'], ['Marcus Raboy'], ['Leigh Whannell'], ['Michael Schultz'], ['Peter Sollett'], ['Bob Dolman'], ['Greg Coolidge'], ['David Lowery'], ['Ciaran Foy'], ['Salim Akil'], ['Olatunde Osunsanmi'], ['Leon Ichaso'], ['Joseph Zito'], ['Patricia Rozema'], ['Rob Schmidt'], ['Ben Garant'], ['Morgan Spurlock'], ['Neal Brennan'], ['Tuck Tucker'], ['Theodore Witcher'], ['Joel Edgerton'], ['Jim Hanon'], ['Michael Patrick Jann'], ['Jorma Taccone'], ['Jeff Lowell'], ['Lorene Scafaria'], ['Marcus Dunstan'], ['Timothy Bjorklund'], ['François Girard'], ['Scott Kalvert'], ['Jason Bateman'], ['David Schwimmer'], ['Allan Arkush'], ['Eric Bross'], ['Dan Fogelman'], ['Jay Duplass'], ['Luca Guadagnino'], ['John Putch'], ['Peter Medak'], ['Terence Davies'], ['Harley Cokeliss'], ['Tom Brady'], ['Jason Zada'], ['Noah Baumbach'], ['Eric Blakeney'], ['Rakesh Roshan'], ['Derrick Borte'], ['Richard Kwietniowski'], ['Bob Odenkirk'], ['Joshua Seftel'], ['Vincent Gallo'], ['Claude Chabrol'], ['Jon Stewart'], ['Bigas Luna'], ['Ralph Fiennes'], ['Dan Harris'], ['Mel Smith'], ['Bobcat Goldthwait'], ['Jake Scott'], ['Alan Metter'], ['Rafa Lara'], ['Alan Smithee'], ['Michael Meredith'], ['Julio DePietro'], ['Katherine Dieckmann'], ['Kim Farrant'], ['Scott Marshall Smith'], ['Álex de la Iglesia'], ['Andrew Traucki'], ['Michael Clancy'], ['Robert Adetuyi'], ['Kari Skogland'], ['Taedong Park'], ['Benedikt Erlingsson'], ['Gurinder Chadha'], ['Jason Connery'], ['Vic Sarin'], ['Jim Issa'], ['William Phillips'], ['Andy García'], ['Sarik Andreasyan'], ['Julian Gilbey'], ['Gary Sherman'], ['Valeri Milev'], ['Stanley Kramer'], ['Pedro Almodóvar'], ['Gerald Potterton'], ['Anurag Basu'], ['Kriv Stenders'], ['Yash Chopra'], ['Floria Sigismondi'], ['Ferzan Ozpetek'], ['Kris Isacsson'], ['Ben Younger'], ['Daniel Taplitz'], ['Tamara Jenkins'], ['Linda Mendoza'], ['Hart Bochner'], ['Stewart Raffill'], ['Na Hong-jin'], ['Chatrichalerm Yukol'], ['Eric Lavaine'], ['Marc Forby'], ['Ole Christian Madsen'], ['Meiert Avis'], ['André Téchiné'], ['Emily Young'], ['Peter Faiman'], ['Martyn Pick'], ['Roland Suso Richter'], ['Jeremy Sims'], ['Maïwenn'], ['Joby Harold'], ['Ekachai Uekrongtham'], ['Mark Rydell'], ['David E. Talbert'], ['Roger Vadim'], ['Nils Gaup'], ['Ari Sandel'], ['Vondie Curtis-Hall'], ['Tom Elkins'], ['Kang Woo-Suk'], ['John Sayles'], ['Vipul Amrutlal Shah'], ['Ken Loach'], ['Ayan Mukherjee'], ['Mervyn LeRoy'], ['Serdar Akar'], ['James Frawley'], ['Dan Gilroy'], ['Jonathan Dayton'], ['Chris Stokes'], ['Don Siegel'], ['Martin Lawrence'], ['Masayuki Ochiai'], ['Tom Gormican'], ['Ken Shapiro'], ['Justin Tipping'], ['Peter R. Hunt'], ['Doug Atchison'], ['Jonas Elmer'], ['Mary Harron'], ['Erik Canuel'], ['Troy Duffy'], ['Nicole Holofcener'], ['Matty Rich'], ['Fina Torres'], ['François Ozon'], ['Ryan Fleck'], ['Steve James'], ['Michael Winner'], ['Tomm Moore'], ['John Carney'], ['David Jacobson'], ['Michael Corrente'], ['Edward Hall'], ['Keith Gordon'], ['Andrew Currie'], ['Luke Wilson'], ['Marc Schölermann'], ['Coky Giedroyc'], ['Robert Moresco'], ['Thomas Vinterberg'], ['Claudia Llosa'], ['Charles Binamé'], ['Keith Parmer'], ['Ol Parker'], ['James Nunn'], ['David Webb Peoples'], ['Michael Winnick'], ['Stanley Tong'], ['David Oelhoffen'], ['Eli Roth'], ['Tony Richardson'], ['Charles Robert Carner'], ['Russell Holt'], ['Claude Miller'], ['Sacha Bennett'], ['Rodrigo García'], ['Jeta Amata'], ['Siddharth Anand'], ['Vincent Paronnaud'], ['Dennis Gansel'], ['Daniel Barber'], ['Robert Marcarelli'], ['Ernie Barbarash'], ['Guy Hamilton'], ['Adam Brooks'], ['Michael Anderson'], ['James D. Stern'], ['Matt Bettinelli-Olpin'], ['Sharron Miller'], ['Aaron Schneider'], ['Tom Ford'], ['Tony Maylam'], ['Mitch Davis'], ['Kevin Brodie'], ['Lynne Ramsay'], ['John Stephenson'], ['Tim Chambers'], ['Dick Richards'], ['Bob Gosse'], ['Alex Zamm'], ['Spencer Susser'], [\"Thaddeus O'Sullivan\"], ['Shari Springer Berman'], ['Aleksey German'], ['Stephen Milburn Anderson'], ['Richard E. Grant'], ['David Lam'], ['Vladlen Barbe'], ['Richard Rich'], ['Robert C. Cooper'], ['Kim Nguyen'], ['Jackie Earle Haley'], ['Max Färberböck'], ['Arie Posin'], ['Damian Nieman'], ['Mark Tonderai'], ['Ian Fitzgibbon'], ['Rachel Perkins'], ['Luis Valdez'], ['Alan Alda'], ['Louis Morneau'], ['Caroline Link'], ['Sterling Van Wagenen'], ['Zal Batmanglij'], ['Hans Petter Moland'], ['Oren Moverman'], ['Ian Sharp'], ['Wolfgang Becker'], [\"Dan O'Bannon\"], ['George Roy Hill'], ['Robert Stevenson'], ['Gary Hardwick'], ['King Vidor'], ['Fred Savage'], ['Sammo Hung'], ['Rusty Cundieff'], ['Dominique Othenin-Girard'], ['Jean-Jacques Mantello'], ['Risa Bramon Garcia'], ['Brian Klugman'], ['Matt Piedmont'], ['Raymond De Felitta'], ['John Michael McDonagh'], ['Deb Hagan'], ['Zach Cregger'], ['Zach Braff'], ['Mark Tarlov'], ['John Cameron Mitchell'], ['Jon Knautz'], ['David Atkins'], ['Patrick Stettner'], ['Sam Peckinpah'], ['Michael Crichton'], ['Sylvio Tabet'], ['Rick Bieber'], ['Joey Lauren Adams'], ['Fred Zinnemann'], ['S.R. Bindler'], ['Greg Marcks'], ['Perry Lang'], ['Jake Goldberger'], ['William Kaufman'], [\"Jim O'Hanlon\"], ['Cédric Klapisch'], ['Kate Barker-Froyland'], ['Martin Koolhoven'], ['Charles Matthau'], ['Christopher Bessette'], ['Prachya Pinkaew'], ['Gary Sinyor'], ['Ashish R. Mohan'], ['Darren Grant'], ['Joseph Gordon-Levitt'], ['William Sachs'], ['Christophe Barratier'], ['Émile Gaudreault'], ['James Cox'], ['James Toback'], ['Aki Kaurismäki'], ['Hitoshi Matsumoto'], ['Rakeysh Omprakash Mehra'], ['Collin Schiffli'], ['George Ratliff'], ['Shane Meadows'], ['Jon Wright'], ['Michael McGowan'], ['Liv Ullmann'], ['Rohan Sippy'], ['Dan Trachtenberg'], ['David F. Sandberg'], ['Stiles White'], ['Eugenio Derbez'], ['Henry Koster'], ['Patty Jenkins'], ['Christopher B. Landon'], ['David Gelb'], ['Mike Flanagan'], ['Nat Faxon'], ['Doug McHenry'], ['George T. Miller'], ['Maurice Joyce'], ['Robert Duvall'], ['Frank Perry'], ['Jesse Peretz'], ['Ice Cube'], ['Richard Glatzer'], ['Michael Curtiz'], ['Bruce Malmuth'], ['Rob Hedden'], ['Harmony Korine'], ['Joe Chappelle'], ['Mickey Liddell'], ['Fred Walton'], ['Steve Carver'], ['Gonzalo López-Gallego'], ['Christine Jeffs'], ['Don Coscarelli'], ['Michael Tiddes'], ['Bill Duke'], ['Frank Borzage'], ['Mamoru Hosoda'], ['Brian Dannelly'], ['Denys Arcand'], ['J.S. Cardone'], ['Jay Levey'], ['Nicholaus Goossen'], ['Scott Marshall'], ['Ronan Chapalain'], ['Xavier Beauvois'], ['Randall Miller'], ['Jerry Belson'], ['Dan Rush'], ['Michael Cuesta'], ['Fenton Bailey'], ['Jeremy Saulnier'], ['Billy Kent'], ['James Manera'], ['Feroz Abbas Khan'], ['Errol Morris'], ['Dennis Hopper'], ['Robert Sarkies'], ['Eli Craig'], ['Nicholas Fackler'], ['Richard Wallace'], ['Morgan J. Freeman'], ['Matthew Hastings'], ['Klaus Menzel'], ['Oren Peli'], ['Paul Andrew Williams'], [], ['William H. Macy'], ['Barrett Esposito'], ['Vicky Jewson'], ['Marcia Bennett'], ['Stanton Barrett'], ['Jiří Menzel'], ['Fatih Akin'], ['Nick Murphy '], ['Frank LaLoggia'], ['Jeremy Brock'], ['Scott Foley'], ['Christophe Ali'], ['Gabriela Tagliavini'], ['Shona Auerbach'], ['Leonard Farlinger'], ['Michel Leclerc'], ['Analeine Cal y Mayor'], ['Tom Kalin'], ['John Huston'], ['Walter Lang'], ['Carlos Saura'], ['Jon Erwin'], ['Beto Gómez'], ['Mike van Diem'], ['Jonas Åkerlund'], ['Todd Solondz'], ['René Féret'], ['Barry Skolnick'], ['Johnnie To'], ['Mateo Gil'], ['Lukas Moodysson'], ['Agnieszka Wojtowicz-Vosloo'], ['Kabir Sadanand'], ['Peter DeLuise'], ['Raja Menon'], ['Kevin Sullivan'], ['Nick Love'], ['Ivan Engler'], ['Cecil B. DeMille'], ['Henry Hobson'], ['Mike Figgis'], ['Duane Journey'], ['Billy Wilder'], ['Lisa Cholodenko'], ['John Sturges'], ['William Arntz'], ['Ed Gass-Donnelly'], ['DJ Pooh'], ['James Melkonian'], ['Roger Avary'], ['Allison Anders'], ['Rick de Oliveira'], ['Jeff Franklin'], ['Mike Mills'], ['Dave McKean'], ['Ron Fricke'], ['Ruggero Deodato'], ['Gavin Wiesen'], ['Mora Stephens'], ['Mars Callahan'], ['Leos Carax'], ['Stefan Schwartz'], ['Robert Lee King'], ['Jorge Ramírez Suárez'], ['Dan Ireland'], ['Fernando León de Aranoa'], ['Jim Mickle'], ['Karim Aïnouz'], ['Sam Levinson'], ['Aleksandr Veledinskiy'], ['Peter H. Hunt'], ['Ruba Nadda'], ['James Whale'], ['Edward Burns'], ['Sean Byrne'], ['Mark Griffiths'], ['Bruce MacDonald'], ['Victor Fleming'], ['Richard Raymond'], ['George Sidney'], ['Chris Morris'], ['Andrucha Waddington'], ['Peter Stebbings'], ['Vincente Minnelli'], ['Dagur Kári'], ['Kevin Carraway'], ['Michael Gornick'], ['Richard Brooks'], ['Robert Eggers'], ['Michael Martin'], ['Gideon Raff'], ['Louis C.K.'], ['Anthony C. Ferrante'], ['Salvador Carrasco'], ['André Øvredal'], ['Robert Cary'], ['Adam Rapp'], ['Warren P. Sonoda'], ['Amanda Gusack'], ['Avi Nesher'], ['Charles Adelman'], ['Jay Oliva'], ['Charles Ferguson'], ['Mark Young'], ['Daniel Petrie, Jr.'], ['Antonio Simoncini'], ['Luc Jacquet'], ['Eldar Rapaport'], ['Clark Gregg'], ['Damien Chazelle'], ['Justin Kerrigan'], ['Nathan Frankowski'], ['Karen Moncrieff'], ['Jonathan Silverman'], ['Eric Styles'], ['Laurent Cantet'], ['John Ford'], ['Max Mayer'], ['Joshua Marston'], ['John Gulager'], ['Brandon Cronenberg'], ['Frank Capra'], ['Tod Williams'], ['Jack Sholder'], ['Ted Post'], ['Michael Haigney'], ['Tom McLoughlin'], ['Adam Marcus'], ['John Maclean'], ['Benny Boom'], ['Howard Hawks'], ['Nnegest Likké'], ['Christopher Leitch'], ['Patricia Cardoso'], [\"Damien O'Donnell\"], ['Peter M. Cohen'], ['Mel Stuart'], ['Anthony Hickox'], ['Tom Schulman'], ['Jill Sprecher'], ['Darren Stein'], ['David Nixon'], ['Jason Eisener'], ['Enrique Begné'], ['Matthew Bright'], ['Michael Landon Jr.'], ['Andrea Arnold'], ['Whit Stillman'], ['Leslye Headland'], ['Bobby Roth'], ['Tim Heidecker'], ['Michael Worth'], ['Deon Taylor'], ['Jason Alexander'], ['Conor McPherson'], ['Will Canon'], ['Philip Zlotorynski'], ['Lance Kawas'], ['Francesca Gregorini'], ['Márcio Garcia'], ['Craig Moss'], ['Michael Jai White'], ['Paolo Monico'], ['Youssef Delara'], ['Darin Scott'], ['Christian Sesma'], ['Monte Hellman'], ['Brian Caunter'], [\"Chris D'Arienzo\"], ['Isaac Florentine'], ['Heidi Ewing'], ['Leon Ford'], ['Hank Braxtan'], ['John Carl Buechler'], ['Rajkumar Hirani'], ['Victor Nunez'], ['Rohit Jugraj'], ['Kresten Vestbjerg Andersen'], ['Alex van Warmerdam'], ['Paweł Pawlikowski'], ['Frank Sebastiano'], ['Stacy Peralta'], ['Nacho Vigalondo'], ['Ning Hao'], ['Tony Giglio'], ['Stanley Donen'], ['Joe Cross'], ['John Sullivan'], ['Tommy Lee Wallace'], ['Don Taylor'], ['Leslie Small'], ['Éric Tessier'], ['Alison Maclean'], ['Alice Wu'], ['Sarah Gavron'], ['James Ponsoldt'], ['Joshua Tickell'], ['Tim Boxell'], ['Michael D. Sellers'], ['Reed Cowan'], ['James Dodson'], ['Alex Rivera'], ['John Murlowski'], ['Benni Diez'], ['Danny Perez'], ['Robby Henson'], ['Zackary Adler'], ['Dominic Burns'], ['Carmen Marron'], ['Jason Stone'], ['Jerry Rees'], ['David Hand'], ['Jaco Booyens'], ['Danny Steinmann'], ['Jon Gunn'], ['Hayley Cloake'], ['Tay Garnett'], ['Shyam Madiraju'], ['Harmage Singh Kalirai'], ['Rita Merson'], ['William Wyler'], ['Larry Clark'], ['Petter Næss'], ['Robert Fontaine'], ['Neil Mcenery-West'], [\"Anthony O'Brien\"], ['Lloyd Kaufman'], ['David Robert Mitchell'], ['Robert Mulligan'], ['Liu Chia-Liang'], ['Chris Kentis'], ['Alex Kendrick'], ['Robert Rossen'], ['Jack Conway'], ['Sylvain Chomet'], ['Chris Eyre'], ['Elia Kazan'], ['Debra Granik'], ['Henry King'], ['Miranda July'], ['Max Joseph'], ['Jim Jarmusch'], ['Kevin Tenney'], ['Ari Folman'], ['Marielle Heller'], ['David Sington'], ['Kelly Reichardt'], ['Bob Giraldi'], ['Huck Botko'], ['David Duchovny'], ['Mitchell Lichtenstein'], ['Lance Mungia'], ['Hue Rhodes'], ['Danny Provenzano'], ['Bill Muir'], ['Noah Buschel'], ['Brian Yuzna'], ['Hunter Richards'], ['Laurie Collyer'], ['Aaron Hann'], ['Phil Claydon'], ['Ralph Ziman'], ['John Simpson'], ['Colin Minihan'], ['Conor McMahon'], ['Chris Shadley'], ['Simon Yin'], ['Jeff Crook'], ['Orson Welles'], ['Dave Payne'], ['Brad Copeland'], ['Paul Bunnell'], ['Phil Morrison'], ['Harald Reinl'], ['Tanner Beard'], ['Scott Dow'], ['Derick Martini'], ['Jerry Dugan'], ['Tim Hunter'], ['Richard Ayoade'], ['Jehane Noujaim'], ['Jean-Marc Barr'], [\"Remo D'Souza\"], ['John Laing'], ['Jamal Hill'], ['Daniel Stamm'], ['Carlos Carrera'], ['Benh Zeitlin'], ['J. Lee Thompson'], ['Maggie Greenwald'], ['Vera Farmiga'], ['Vijay Chandar'], ['Jonathan Wacks'], ['Khyentse Norbu'], ['Tony Krantz'], ['Mitchell Altieri'], ['W.D. Hogan'], ['Corey Grant'], ['Lucky McKee'], ['Richard Boddington'], ['Steven R. Monroe'], ['Mark Illsley'], ['Ritesh Batra'], ['Sally Potter'], ['Brad J. Silverman'], ['Dave Meyers'], ['David M. Matthews'], ['Nadine Labaki'], ['Lluís Quílez'], ['Eytan Fox'], ['Romesh Sharma'], ['François Truffaut'], ['Adam Goldberg'], ['Travis Zariwny'], ['Adrienne Shelly'], ['Newt Arnold'], ['Alex Cox'], ['Fabián Bielinsky'], ['Dror Moreh'], ['Rebecca Miller'], ['Maggie Carey'], ['Henry Bean'], ['Simeon Rice'], ['Jeff Garlin'], ['Qasim Basir'], ['Adam Green'], ['Charlie Chaplin'], ['Pete Jones'], ['Bruce Campbell'], ['Adam Carolla'], ['Bruce McDonald'], ['James Mottern'], ['Gerard Johnstone'], ['Robert Greenwald'], ['David Ray'], ['David Rodriguez'], ['Nae Caranfil'], ['David Winning'], ['Frank Lotito'], ['Timothy Woodward Jr.'], ['Tara Subkoff'], ['Russell Friedenberg'], ['Lucrecia Martel'], ['Edward Dmytryk'], ['Zak Penn'], ['Alex Ranarivelo'], ['Mathieu Amalric'], ['David Worth'], ['Robert M. Young'], ['Steve Buscemi'], ['Ham Tran'], ['Rich Cowan'], ['Boris Rodriguez'], ['Sadyk Sher-Niyaz'], ['Paul Donovan'], ['Jonathan Kesselman'], ['Arjun Sablok'], ['Tyler Oliver'], ['Douglas Cheek'], ['Michael D. Olmos'], ['Deryck Broom'], ['Henry Hathaway'], ['Giovanni Zelko'], ['Claudia Sainte-Luce'], ['Jamie Babbit'], ['David Boyd'], ['Anna Muylaert'], ['Steve Taylor'], ['James David Pasternak'], ['Laurent Bouhnik'], ['Tom Sanchez'], ['David Caffrey'], ['Adam Jay Epstein'], ['Justin Thomas Ostensen'], ['Ossie Davis'], ['Jay Alaimo'], ['Dylan Bank'], ['Rob McKittrick'], ['Jeff Burr'], ['Guy Maddin'], ['Regardt van den Bergh'], ['Panos Cosmatos'], ['Gareth Evans'], ['Matthew R. Anderson'], ['Joe Marino'], ['Joel Anderson'], ['Shimit Amin'], ['Douglas Trumbull'], ['Mona Lerche'], ['Levan Gabriadze'], ['Bradley Parker'], ['Clive Barker'], ['Harold Cronk'], ['Takao Okawara'], ['Duncan Tucker'], ['Russ Meyer'], ['Robert D. Webb'], ['Allan Dwan'], ['Andrew Steggall'], ['Ben Lewin'], ['Robert Kenner'], ['Andrew Erwin'], ['Craig Johnson'], ['Sean Durkin'], ['Gillian Robespierre'], ['Courtney Hunt'], ['Morgan Neville'], ['Chris Paine'], ['Greg Berlanti'], ['Marc Levin'], ['Richard Dutcher'], ['Khalid Mohammed'], ['Gia Coppola'], ['Scandar Copti'], ['Goran Dukic'], ['Mike Cahill'], ['Kyle Rankin'], ['Joshua Oppenheimer'], ['Alex Gibney'], ['Paul Crowder'], ['Rohit Jagessar'], ['Anthony Powell'], ['Kief Davidson'], ['Johnny Remo'], ['Vivek Agnihotri'], ['Ti West'], ['Nick Tomnay'], ['Nickolas Perry'], ['Dan Zukovic'], ['Becky Smith'], ['Eric Nicholas'], ['Benjamin Dickinson'], ['Hal Haberman'], ['Frank Whaley'], ['Amat Escalante'], ['Katherine Brooks'], ['David Cross'], ['Randall Rubin'], ['Robert Bennett'], ['Mary Pat Kelly'], ['Lori Petty'], ['Charlie Levi'], ['Kevin Hamedani'], ['David DeCoteau'], ['Mikel Rueda'], ['Stefan C. Schaefer'], ['Michael Taliferro'], ['Katie Aselton'], ['Robert Heath'], ['D. Stevens'], ['Jeffrey St. Jules'], ['Robert Hall'], ['Kevin King'], ['Jonathan Meyers'], ['Ralph Nelson'], ['Blair Erickson'], ['Allison Burnett'], ['Richard Schenkman'], ['Kat Coiro'], ['Cristian Mungiu'], ['Joseph Graham'], ['Maryam Keshavarz'], ['Ramaa Mosley'], ['C. Jay Cox'], ['Mariette Monpierre'], ['Tommy Oliver'], ['Jamie Travis'], ['Rich Christiano'], [\"Natalie Bible'\"], ['Asghar Farhadi'], ['Justin Molotnikov'], ['G.W. Pabst'], ['Jorge Gaggero'], ['Michael Burke'], ['Catherine Jelski'], ['Shane Dawson'], ['Ryan Little'], ['Clark Baker'], ['Dave Willis'], ['Ben Wheatley'], ['Olly Blackburn'], ['Christopher Hutson'], ['David LaChapelle'], ['Caryn Waechter'], ['Emily Dell'], ['Valerie Red-Horse'], ['Christopher Scott Cherot'], ['H.M. Coakley'], ['Randy Moore'], ['Chris Atkins'], ['Bill Benenson'], ['Ryan Smith'], ['Travis Romero'], ['Anna Mastro'], ['Mark Sandrich'], ['Daniel Myrick'], ['Michael Wadleigh'], ['Gene Teigland'], ['Scott Ziehl'], ['Richard Montoya'], ['Johanna Schwartz'], ['Thomas Lilti'], ['Michael Walker'], ['U. Roberto Romano'], ['Amy Holden Jones'], ['Blaž Završnik'], ['Pan Nalin'], ['Joe Camp'], ['Matt Walsh'], [\"John 'Bud' Cardos\"], ['Marilyn Agrelo'], ['Brian Baugh'], ['Patrick Creadon'], ['Barry W. Blaustein'], ['Kurt Hale'], ['Siddiq Barmak'], ['Joseph Dorman'], ['Greg Harrison'], ['Jacob Aaron Estes'], ['Eric Schaeffer'], ['Neema Barnette'], ['Joe Swanberg'], ['Molly Bernstein'], ['Marius Markevicius'], ['Tom DiCillo'], ['Quentin Dupieux'], ['Alex Smith'], ['Gareth Edwards'], ['Jonathan Parker'], ['Sol Tryon'], ['Alex Craig Mann'], ['Stephen Kijak'], ['William Gazecki'], ['Michael Hoffman Jr.'], ['Georgia Hilton'], ['Jack Heller'], ['Fernando Baez Mella'], ['Warren Sheppard'], ['Justin Paul Miller'], ['Joel Paul Reisig'], ['Catherine Gund'], ['Hans Canosa'], ['Matthew Watts'], ['Lloyd Bacon'], ['Kay Pollak'], ['Eric England'], ['Sue Corcoran'], ['Jonathan Caouette'], ['Matt Jackson'], ['Lucio Fulci'], ['Paul Fox'], ['Cassandra Nicolaou'], ['Ingmar Bergman'], ['D.W. Griffith'], ['Roger Nygard'], ['Harry Beaumont'], ['Franck Khalfoun'], ['Mor Loushy'], ['Henry Alex Rubin'], ['Sam Firstenberg'], ['Doug Block'], ['Chad Kapper'], ['Paul Fierlinger'], ['Yorgos Lanthimos'], ['Lauren Lazin'], ['Gregory Widen'], ['Niall Johnson'], ['Eric Mendelsohn'], ['Jean-Luc Godard'], ['Kim Longinotto'], ['Michael Roemer'], [\"Eddie O'Flaherty\"], ['Babar Ahmed'], ['John D. Hancock'], ['Paul Bartel'], ['Jason Marsden'], ['Pece Dingo'], ['Jerome Elston Scott'], ['Étienne Faure'], ['Herb Freed'], ['Jack Perez'], ['Craig Zobel'], ['Maria Maggenti'], ['Piyush Dinker Pandya'], ['Emma-Kate Croghan'], ['Bill Plympton'], ['Drake Doremus'], ['Michael Kang'], ['Lori Silverbush'], ['Stuart Hazeldine'], ['Hilary Brougher'], ['Rachel Goldenberg'], ['Corbin Bernsen'], ['Jamin Winans'], ['Tom Seidman '], ['Matt Cimber'], ['Andrew Hyatt'], ['Kristin Rizzo'], ['Zoran Lisinac'], [\"James O'Brien\"], ['Tom Putnam'], ['Jon Matthews'], ['Al Silliman Jr.'], ['Eugène Lourié'], ['Lowell Sherman'], ['David Evans '], ['Sherman Alexie'], ['Justin Dillon'], ['Stevan Mena'], ['Livingston Oden'], ['Chris Marker'], ['Carl Theodor Dreyer'], ['Marianna Palka'], ['Ricki Stern'], ['Nadia Tass'], ['James Kerwin'], ['Darren Press'], ['Rania Attieh'], ['Sharon Greytak'], ['Majid Majidi'], ['Andrew Haigh'], ['Cary Bell'], ['Nicolae Constantin Tanase'], ['Melvin Van Peebles'], ['Ken Roht'], ['Robinson Devor'], ['Michel O. Scott'], ['Pat Holden'], ['Eric Bugbee'], ['Bill Melendez'], ['Dena Seidel'], ['Deborah Anderson'], ['Sara Newens'], ['Sai Varadan'], ['Lynn Shelton'], ['David Hewlett'], ['Nate Parker'], ['Nathan Smith Jones'], ['Travis Cluff'], ['Robert Townsend'], ['Jamaa Fanaka'], ['Larry Blamire'], ['Stephen Langford'], ['E.L. Katz'], ['Lisanne Pajot'], ['Dan Reed'], ['John Reinhardt'], ['Patrick Ryan Sims'], ['László Benedek'], ['Jason Miller'], ['Sut Jhally'], ['Julie Davis'], ['Myles Berkowitz'], ['Brett Piper'], ['Brandon Trost'], ['Joseph Green'], ['Wade Gasque'], ['Daniel Schechter'], ['Matt Johnson'], ['Bruno Barreto'], ['Lena Dunham'], ['Terron R. Parsons'], ['Daniel Mellitz'], ['Jem Cohen'], ['Andrew Leman'], ['Dave Carroll'], ['William Eubank'], ['Patrick Meaney'], ['Chad Hartigan'], ['Malcolm Goodwin'], ['Kevin Jordan'], ['Kirk Loudon'], ['Travis Legge'], ['Collin Joseph Neal'], ['Bradley Rust Gray'], ['Mike Bruce'], ['Andrew Bujalski'], ['Damir Catic'], ['James Bidgood'], ['Eric Eason'], ['Joseph Mazzella'], ['Marcus Nispel'], ['Jim Chuchu'], ['Daryl Wein'], ['Jason Trost'], ['Jafar Panahi'], ['Ivan Kavanagh'], ['Kiyoshi Kurosawa'], ['Tadeo Garcia'], ['Thomas L. Phillips'], ['Ash Baron-Cohen'], ['Shane Carruth'], ['Neill Dela Llana'], ['Scott Smith'], ['Daniel Hsia'], ['Brian Herzlinger']]\n"
     ]
    }
   ],
   "source": [
    "print(director_new)"
   ]
  },
  {
   "cell_type": "code",
   "execution_count": null,
   "id": "14005fcb",
   "metadata": {},
   "outputs": [],
   "source": []
  },
  {
   "cell_type": "code",
   "execution_count": 33,
   "id": "619407ad",
   "metadata": {},
   "outputs": [],
   "source": [
    "# Creating pickle files for all the copies\n",
    "\n",
    "import pickle\n",
    "\n",
    "pickle.dump(starring , open('starring.pkl','wb'))\n",
    "pickle.dump(director , open('director.pkl','wb'))\n",
    "pickle.dump(genres_movie , open('genres.pkl','wb'))\n",
    "pickle.dump(director_new, open('director2.pkl','wb'))"
   ]
  },
  {
   "cell_type": "code",
   "execution_count": null,
   "id": "4adbf822",
   "metadata": {},
   "outputs": [],
   "source": []
  },
  {
   "cell_type": "code",
   "execution_count": 34,
   "id": "d59d73e5",
   "metadata": {},
   "outputs": [
    {
     "data": {
      "text/html": [
       "<div>\n",
       "<style scoped>\n",
       "    .dataframe tbody tr th:only-of-type {\n",
       "        vertical-align: middle;\n",
       "    }\n",
       "\n",
       "    .dataframe tbody tr th {\n",
       "        vertical-align: top;\n",
       "    }\n",
       "\n",
       "    .dataframe thead th {\n",
       "        text-align: right;\n",
       "    }\n",
       "</style>\n",
       "<table border=\"1\" class=\"dataframe\">\n",
       "  <thead>\n",
       "    <tr style=\"text-align: right;\">\n",
       "      <th></th>\n",
       "      <th>id</th>\n",
       "      <th>title</th>\n",
       "      <th>overview</th>\n",
       "      <th>genres</th>\n",
       "      <th>keywords</th>\n",
       "      <th>cast</th>\n",
       "      <th>crew</th>\n",
       "    </tr>\n",
       "  </thead>\n",
       "  <tbody>\n",
       "    <tr>\n",
       "      <th>0</th>\n",
       "      <td>19995</td>\n",
       "      <td>Avatar</td>\n",
       "      <td>[In, the, 22nd, century,, a, paraplegic, Marin...</td>\n",
       "      <td>[Action, Adventure, Fantasy, Science Fiction]</td>\n",
       "      <td>[culture clash, future, space war, space colon...</td>\n",
       "      <td>[Sam Worthington, Zoe Saldana, Sigourney Weaver]</td>\n",
       "      <td>[James Cameron]</td>\n",
       "    </tr>\n",
       "  </tbody>\n",
       "</table>\n",
       "</div>"
      ],
      "text/plain": [
       "      id   title                                           overview  \\\n",
       "0  19995  Avatar  [In, the, 22nd, century,, a, paraplegic, Marin...   \n",
       "\n",
       "                                          genres  \\\n",
       "0  [Action, Adventure, Fantasy, Science Fiction]   \n",
       "\n",
       "                                            keywords  \\\n",
       "0  [culture clash, future, space war, space colon...   \n",
       "\n",
       "                                               cast             crew  \n",
       "0  [Sam Worthington, Zoe Saldana, Sigourney Weaver]  [James Cameron]  "
      ]
     },
     "execution_count": 34,
     "metadata": {},
     "output_type": "execute_result"
    }
   ],
   "source": [
    "movies.head(1)"
   ]
  },
  {
   "cell_type": "code",
   "execution_count": null,
   "id": "b0520db1",
   "metadata": {},
   "outputs": [],
   "source": []
  },
  {
   "cell_type": "code",
   "execution_count": 35,
   "id": "e2bf02a1",
   "metadata": {},
   "outputs": [],
   "source": [
    "# Removing spaces in all data of \"genres\", \"keywords\", \"cast\" and \"crew\".\n",
    "# The reason for doing this is to reduce the inefficiency.\n",
    "# For example there are two directors with same first name and if we \n",
    "# search with the first name, result might not be correct\n",
    "\n",
    "\n",
    "movies['genres'] = movies['genres'].apply(lambda x: [i.replace(\" \" , \"\") for i in x])\n",
    "movies['keywords'] = movies['keywords'].apply(lambda x: [i.replace(\" \" , \"\") for i in x])\n",
    "movies['cast'] = movies['cast'].apply(lambda x: [i.replace(\" \" , \"\") for i in x])\n",
    "movies['crew'] = movies['crew'].apply(lambda x: [i.replace(\" \" , \"\") for i in x])"
   ]
  },
  {
   "cell_type": "code",
   "execution_count": 36,
   "id": "f8127585",
   "metadata": {},
   "outputs": [
    {
     "data": {
      "text/html": [
       "<div>\n",
       "<style scoped>\n",
       "    .dataframe tbody tr th:only-of-type {\n",
       "        vertical-align: middle;\n",
       "    }\n",
       "\n",
       "    .dataframe tbody tr th {\n",
       "        vertical-align: top;\n",
       "    }\n",
       "\n",
       "    .dataframe thead th {\n",
       "        text-align: right;\n",
       "    }\n",
       "</style>\n",
       "<table border=\"1\" class=\"dataframe\">\n",
       "  <thead>\n",
       "    <tr style=\"text-align: right;\">\n",
       "      <th></th>\n",
       "      <th>id</th>\n",
       "      <th>title</th>\n",
       "      <th>overview</th>\n",
       "      <th>genres</th>\n",
       "      <th>keywords</th>\n",
       "      <th>cast</th>\n",
       "      <th>crew</th>\n",
       "    </tr>\n",
       "  </thead>\n",
       "  <tbody>\n",
       "    <tr>\n",
       "      <th>0</th>\n",
       "      <td>19995</td>\n",
       "      <td>Avatar</td>\n",
       "      <td>[In, the, 22nd, century,, a, paraplegic, Marin...</td>\n",
       "      <td>[Action, Adventure, Fantasy, ScienceFiction]</td>\n",
       "      <td>[cultureclash, future, spacewar, spacecolony, ...</td>\n",
       "      <td>[SamWorthington, ZoeSaldana, SigourneyWeaver]</td>\n",
       "      <td>[JamesCameron]</td>\n",
       "    </tr>\n",
       "  </tbody>\n",
       "</table>\n",
       "</div>"
      ],
      "text/plain": [
       "      id   title                                           overview  \\\n",
       "0  19995  Avatar  [In, the, 22nd, century,, a, paraplegic, Marin...   \n",
       "\n",
       "                                         genres  \\\n",
       "0  [Action, Adventure, Fantasy, ScienceFiction]   \n",
       "\n",
       "                                            keywords  \\\n",
       "0  [cultureclash, future, spacewar, spacecolony, ...   \n",
       "\n",
       "                                            cast            crew  \n",
       "0  [SamWorthington, ZoeSaldana, SigourneyWeaver]  [JamesCameron]  "
      ]
     },
     "execution_count": 36,
     "metadata": {},
     "output_type": "execute_result"
    }
   ],
   "source": [
    "movies.head(1)"
   ]
  },
  {
   "cell_type": "code",
   "execution_count": null,
   "id": "f331ca5e",
   "metadata": {},
   "outputs": [],
   "source": []
  },
  {
   "cell_type": "code",
   "execution_count": 37,
   "id": "e76fe8db",
   "metadata": {},
   "outputs": [],
   "source": [
    "# Combining all the data of \"overview\", \"genres\", \"keywords\", \n",
    "# \"cast\" and \"crew\" and storing them in new field called \"tags\"\n",
    "\n",
    "\n",
    "movies['tags'] = movies['overview'] + movies['genres'] + movies['keywords'] + movies['cast'] + movies['crew']"
   ]
  },
  {
   "cell_type": "code",
   "execution_count": 38,
   "id": "ef57732e",
   "metadata": {},
   "outputs": [
    {
     "data": {
      "text/html": [
       "<div>\n",
       "<style scoped>\n",
       "    .dataframe tbody tr th:only-of-type {\n",
       "        vertical-align: middle;\n",
       "    }\n",
       "\n",
       "    .dataframe tbody tr th {\n",
       "        vertical-align: top;\n",
       "    }\n",
       "\n",
       "    .dataframe thead th {\n",
       "        text-align: right;\n",
       "    }\n",
       "</style>\n",
       "<table border=\"1\" class=\"dataframe\">\n",
       "  <thead>\n",
       "    <tr style=\"text-align: right;\">\n",
       "      <th></th>\n",
       "      <th>id</th>\n",
       "      <th>title</th>\n",
       "      <th>overview</th>\n",
       "      <th>genres</th>\n",
       "      <th>keywords</th>\n",
       "      <th>cast</th>\n",
       "      <th>crew</th>\n",
       "      <th>tags</th>\n",
       "    </tr>\n",
       "  </thead>\n",
       "  <tbody>\n",
       "    <tr>\n",
       "      <th>0</th>\n",
       "      <td>19995</td>\n",
       "      <td>Avatar</td>\n",
       "      <td>[In, the, 22nd, century,, a, paraplegic, Marin...</td>\n",
       "      <td>[Action, Adventure, Fantasy, ScienceFiction]</td>\n",
       "      <td>[cultureclash, future, spacewar, spacecolony, ...</td>\n",
       "      <td>[SamWorthington, ZoeSaldana, SigourneyWeaver]</td>\n",
       "      <td>[JamesCameron]</td>\n",
       "      <td>[In, the, 22nd, century,, a, paraplegic, Marin...</td>\n",
       "    </tr>\n",
       "  </tbody>\n",
       "</table>\n",
       "</div>"
      ],
      "text/plain": [
       "      id   title                                           overview  \\\n",
       "0  19995  Avatar  [In, the, 22nd, century,, a, paraplegic, Marin...   \n",
       "\n",
       "                                         genres  \\\n",
       "0  [Action, Adventure, Fantasy, ScienceFiction]   \n",
       "\n",
       "                                            keywords  \\\n",
       "0  [cultureclash, future, spacewar, spacecolony, ...   \n",
       "\n",
       "                                            cast            crew  \\\n",
       "0  [SamWorthington, ZoeSaldana, SigourneyWeaver]  [JamesCameron]   \n",
       "\n",
       "                                                tags  \n",
       "0  [In, the, 22nd, century,, a, paraplegic, Marin...  "
      ]
     },
     "execution_count": 38,
     "metadata": {},
     "output_type": "execute_result"
    }
   ],
   "source": [
    "movies.head(1)"
   ]
  },
  {
   "cell_type": "code",
   "execution_count": null,
   "id": "f7b115eb",
   "metadata": {},
   "outputs": [],
   "source": []
  },
  {
   "cell_type": "code",
   "execution_count": 39,
   "id": "4eebcf71",
   "metadata": {},
   "outputs": [],
   "source": [
    "''' \n",
    "Considering only the required details of the \"movies\" data frame \n",
    "and storing them in a data frame named \"new_dataframe\"\n",
    "'''\n",
    "\n",
    "new_dataframe = movies[['id' , 'title' , 'tags']]"
   ]
  },
  {
   "cell_type": "code",
   "execution_count": 40,
   "id": "06f84bcc",
   "metadata": {},
   "outputs": [
    {
     "data": {
      "text/html": [
       "<div>\n",
       "<style scoped>\n",
       "    .dataframe tbody tr th:only-of-type {\n",
       "        vertical-align: middle;\n",
       "    }\n",
       "\n",
       "    .dataframe tbody tr th {\n",
       "        vertical-align: top;\n",
       "    }\n",
       "\n",
       "    .dataframe thead th {\n",
       "        text-align: right;\n",
       "    }\n",
       "</style>\n",
       "<table border=\"1\" class=\"dataframe\">\n",
       "  <thead>\n",
       "    <tr style=\"text-align: right;\">\n",
       "      <th></th>\n",
       "      <th>id</th>\n",
       "      <th>title</th>\n",
       "      <th>tags</th>\n",
       "    </tr>\n",
       "  </thead>\n",
       "  <tbody>\n",
       "    <tr>\n",
       "      <th>0</th>\n",
       "      <td>19995</td>\n",
       "      <td>Avatar</td>\n",
       "      <td>[In, the, 22nd, century,, a, paraplegic, Marin...</td>\n",
       "    </tr>\n",
       "    <tr>\n",
       "      <th>1</th>\n",
       "      <td>285</td>\n",
       "      <td>Pirates of the Caribbean: At World's End</td>\n",
       "      <td>[Captain, Barbossa,, long, believed, to, be, d...</td>\n",
       "    </tr>\n",
       "    <tr>\n",
       "      <th>2</th>\n",
       "      <td>206647</td>\n",
       "      <td>Spectre</td>\n",
       "      <td>[A, cryptic, message, from, Bond’s, past, send...</td>\n",
       "    </tr>\n",
       "    <tr>\n",
       "      <th>3</th>\n",
       "      <td>49026</td>\n",
       "      <td>The Dark Knight Rises</td>\n",
       "      <td>[Following, the, death, of, District, Attorney...</td>\n",
       "    </tr>\n",
       "    <tr>\n",
       "      <th>4</th>\n",
       "      <td>49529</td>\n",
       "      <td>John Carter</td>\n",
       "      <td>[John, Carter, is, a, war-weary,, former, mili...</td>\n",
       "    </tr>\n",
       "  </tbody>\n",
       "</table>\n",
       "</div>"
      ],
      "text/plain": [
       "       id                                     title  \\\n",
       "0   19995                                    Avatar   \n",
       "1     285  Pirates of the Caribbean: At World's End   \n",
       "2  206647                                   Spectre   \n",
       "3   49026                     The Dark Knight Rises   \n",
       "4   49529                               John Carter   \n",
       "\n",
       "                                                tags  \n",
       "0  [In, the, 22nd, century,, a, paraplegic, Marin...  \n",
       "1  [Captain, Barbossa,, long, believed, to, be, d...  \n",
       "2  [A, cryptic, message, from, Bond’s, past, send...  \n",
       "3  [Following, the, death, of, District, Attorney...  \n",
       "4  [John, Carter, is, a, war-weary,, former, mili...  "
      ]
     },
     "execution_count": 40,
     "metadata": {},
     "output_type": "execute_result"
    }
   ],
   "source": [
    "new_dataframe.head()"
   ]
  },
  {
   "cell_type": "code",
   "execution_count": null,
   "id": "4b944fa3",
   "metadata": {},
   "outputs": [],
   "source": []
  },
  {
   "cell_type": "code",
   "execution_count": 41,
   "id": "d96a2bcc",
   "metadata": {},
   "outputs": [
    {
     "name": "stderr",
     "output_type": "stream",
     "text": [
      "C:\\Users\\hp\\AppData\\Local\\Temp\\ipykernel_2380\\1836868139.py:3: SettingWithCopyWarning: \n",
      "A value is trying to be set on a copy of a slice from a DataFrame.\n",
      "Try using .loc[row_indexer,col_indexer] = value instead\n",
      "\n",
      "See the caveats in the documentation: https://pandas.pydata.org/pandas-docs/stable/user_guide/indexing.html#returning-a-view-versus-a-copy\n",
      "  new_dataframe['tags'] = new_dataframe['tags'].apply(lambda x: \" \".join(x))\n"
     ]
    }
   ],
   "source": [
    "# Converting the \"tags\" field from list of strings to a single string\n",
    "\n",
    "new_dataframe['tags'] = new_dataframe['tags'].apply(lambda x: \" \".join(x))"
   ]
  },
  {
   "cell_type": "code",
   "execution_count": null,
   "id": "5f8fe371",
   "metadata": {},
   "outputs": [],
   "source": []
  },
  {
   "cell_type": "code",
   "execution_count": 42,
   "id": "bba85e1d",
   "metadata": {},
   "outputs": [
    {
     "data": {
      "text/html": [
       "<div>\n",
       "<style scoped>\n",
       "    .dataframe tbody tr th:only-of-type {\n",
       "        vertical-align: middle;\n",
       "    }\n",
       "\n",
       "    .dataframe tbody tr th {\n",
       "        vertical-align: top;\n",
       "    }\n",
       "\n",
       "    .dataframe thead th {\n",
       "        text-align: right;\n",
       "    }\n",
       "</style>\n",
       "<table border=\"1\" class=\"dataframe\">\n",
       "  <thead>\n",
       "    <tr style=\"text-align: right;\">\n",
       "      <th></th>\n",
       "      <th>id</th>\n",
       "      <th>title</th>\n",
       "      <th>tags</th>\n",
       "    </tr>\n",
       "  </thead>\n",
       "  <tbody>\n",
       "    <tr>\n",
       "      <th>0</th>\n",
       "      <td>19995</td>\n",
       "      <td>Avatar</td>\n",
       "      <td>In the 22nd century, a paraplegic Marine is di...</td>\n",
       "    </tr>\n",
       "  </tbody>\n",
       "</table>\n",
       "</div>"
      ],
      "text/plain": [
       "      id   title                                               tags\n",
       "0  19995  Avatar  In the 22nd century, a paraplegic Marine is di..."
      ]
     },
     "execution_count": 42,
     "metadata": {},
     "output_type": "execute_result"
    }
   ],
   "source": [
    "new_dataframe.head(1)"
   ]
  },
  {
   "cell_type": "code",
   "execution_count": null,
   "id": "f4473c20",
   "metadata": {},
   "outputs": [],
   "source": []
  },
  {
   "cell_type": "code",
   "execution_count": 43,
   "id": "554efe58",
   "metadata": {},
   "outputs": [],
   "source": [
    "import nltk\n",
    "from nltk.stem.porter import PorterStemmer\n",
    "\n",
    "ps = PorterStemmer()"
   ]
  },
  {
   "cell_type": "code",
   "execution_count": 44,
   "id": "0db1df6c",
   "metadata": {},
   "outputs": [],
   "source": [
    "'''\n",
    "Function which stems the \"tags\" data field. This field needs to be stemmed because \n",
    "there might be some similar words like \"actor, actors\" etc. We should not consider \n",
    "those words repetitivley, stemming those words will convert them to their derived \n",
    "words, so that similar words are considered only once which gives correct results\n",
    "'''\n",
    "\n",
    "\n",
    "def stem(string):\n",
    "    l = []\n",
    "    for i in string.split():\n",
    "        l.append(ps.stem(i))\n",
    "    \n",
    "    return \" \".join(l)"
   ]
  },
  {
   "cell_type": "code",
   "execution_count": 45,
   "id": "0f3312bd",
   "metadata": {},
   "outputs": [
    {
     "name": "stderr",
     "output_type": "stream",
     "text": [
      "C:\\Users\\hp\\AppData\\Local\\Temp\\ipykernel_2380\\4223723326.py:1: SettingWithCopyWarning: \n",
      "A value is trying to be set on a copy of a slice from a DataFrame.\n",
      "Try using .loc[row_indexer,col_indexer] = value instead\n",
      "\n",
      "See the caveats in the documentation: https://pandas.pydata.org/pandas-docs/stable/user_guide/indexing.html#returning-a-view-versus-a-copy\n",
      "  new_dataframe['tags'] = new_dataframe['tags'].apply(stem)\n"
     ]
    }
   ],
   "source": [
    "new_dataframe['tags'] = new_dataframe['tags'].apply(stem)"
   ]
  },
  {
   "cell_type": "code",
   "execution_count": 46,
   "id": "cdacee6b",
   "metadata": {},
   "outputs": [
    {
     "data": {
      "text/plain": [
       "'in the 22nd century, a parapleg marin is dispatch to the moon pandora on a uniqu mission, but becom torn between follow order and protect an alien civilization. action adventur fantasi sciencefict cultureclash futur spacewar spacecoloni societi spacetravel futurist romanc space alien tribe alienplanet cgi marin soldier battl loveaffair antiwar powerrel mindandsoul 3d samworthington zoesaldana sigourneyweav jamescameron'"
      ]
     },
     "execution_count": 46,
     "metadata": {},
     "output_type": "execute_result"
    }
   ],
   "source": [
    "new_dataframe['tags'][0]"
   ]
  },
  {
   "cell_type": "code",
   "execution_count": null,
   "id": "63352989",
   "metadata": {},
   "outputs": [],
   "source": []
  },
  {
   "cell_type": "code",
   "execution_count": 51,
   "id": "cf371857",
   "metadata": {},
   "outputs": [
    {
     "data": {
      "text/plain": [
       "'in the 22nd century, a parapleg marin is dispatch to the moon pandora on a uniqu mission, but becom torn between follow order and protect an alien civilization. action adventur fantasi sciencefict cultureclash futur spacewar spacecoloni societi spacetravel futurist romanc space alien tribe alienplanet cgi marin soldier battl loveaffair antiwar powerrel mindandsoul 3d samworthington zoesaldana sigourneyweav jamescameron'"
      ]
     },
     "execution_count": 51,
     "metadata": {},
     "output_type": "execute_result"
    }
   ],
   "source": [
    "new_dataframe['tags'][0]"
   ]
  },
  {
   "cell_type": "code",
   "execution_count": null,
   "id": "609aaff8",
   "metadata": {},
   "outputs": [],
   "source": []
  },
  {
   "cell_type": "code",
   "execution_count": 52,
   "id": "e86bfbf2",
   "metadata": {},
   "outputs": [],
   "source": [
    "# collecting the mostly appeared 5000 words excluding stop words like \"is, am, and\" etc.\n",
    "\n",
    "from sklearn.feature_extraction.text import CountVectorizer\n",
    "\n",
    "cv = CountVectorizer(max_features = 5000 , stop_words = 'english')"
   ]
  },
  {
   "cell_type": "code",
   "execution_count": 53,
   "id": "ca0aecb7",
   "metadata": {},
   "outputs": [],
   "source": [
    "vectors = cv.fit_transform(new_dataframe['tags']).toarray()"
   ]
  },
  {
   "cell_type": "code",
   "execution_count": 54,
   "id": "44139125",
   "metadata": {},
   "outputs": [
    {
     "data": {
      "text/plain": [
       "array([[0, 0, 0, ..., 0, 0, 0],\n",
       "       [0, 0, 0, ..., 0, 0, 0],\n",
       "       [0, 0, 0, ..., 0, 0, 0],\n",
       "       ...,\n",
       "       [0, 0, 0, ..., 0, 0, 0],\n",
       "       [0, 0, 0, ..., 0, 0, 0],\n",
       "       [0, 0, 0, ..., 0, 0, 0]], dtype=int64)"
      ]
     },
     "execution_count": 54,
     "metadata": {},
     "output_type": "execute_result"
    }
   ],
   "source": [
    "vectors"
   ]
  },
  {
   "cell_type": "code",
   "execution_count": null,
   "id": "ba0b18f3",
   "metadata": {},
   "outputs": [],
   "source": []
  },
  {
   "cell_type": "code",
   "execution_count": 55,
   "id": "6736333b",
   "metadata": {},
   "outputs": [],
   "source": [
    "'''\n",
    "Considering similarity between movies based on cosine similarity instead of Eucledian distance \n",
    "as the latter gives in-accurate results for larger data sets. The cosine similarity \n",
    "values for each movie are stored in a 2-dimensional matrix named \"similarity\"\n",
    "'''\n",
    "\n",
    "\n",
    "from sklearn.metrics.pairwise import cosine_similarity\n",
    "\n",
    "similarity = cosine_similarity(vectors)"
   ]
  },
  {
   "cell_type": "code",
   "execution_count": 56,
   "id": "45421630",
   "metadata": {},
   "outputs": [
    {
     "data": {
      "text/plain": [
       "array([[1.        , 0.08346223, 0.0860309 , ..., 0.04499213, 0.        ,\n",
       "        0.        ],\n",
       "       [0.08346223, 1.        , 0.06063391, ..., 0.02378257, 0.        ,\n",
       "        0.02615329],\n",
       "       [0.0860309 , 0.06063391, 1.        , ..., 0.02451452, 0.        ,\n",
       "        0.        ],\n",
       "       ...,\n",
       "       [0.04499213, 0.02378257, 0.02451452, ..., 1.        , 0.03962144,\n",
       "        0.04229549],\n",
       "       [0.        , 0.        , 0.        , ..., 0.03962144, 1.        ,\n",
       "        0.08714204],\n",
       "       [0.        , 0.02615329, 0.        , ..., 0.04229549, 0.08714204,\n",
       "        1.        ]])"
      ]
     },
     "execution_count": 56,
     "metadata": {},
     "output_type": "execute_result"
    }
   ],
   "source": [
    "similarity"
   ]
  },
  {
   "cell_type": "code",
   "execution_count": 57,
   "id": "d9a79f64",
   "metadata": {},
   "outputs": [
    {
     "data": {
      "text/plain": [
       "array([1.        , 0.08346223, 0.0860309 , ..., 0.04499213, 0.        ,\n",
       "       0.        ])"
      ]
     },
     "execution_count": 57,
     "metadata": {},
     "output_type": "execute_result"
    }
   ],
   "source": [
    "similarity[0]"
   ]
  },
  {
   "cell_type": "code",
   "execution_count": 58,
   "id": "b6d9b23f",
   "metadata": {},
   "outputs": [
    {
     "data": {
      "text/plain": [
       "array([0.08346223, 1.        , 0.06063391, ..., 0.02378257, 0.        ,\n",
       "       0.02615329])"
      ]
     },
     "execution_count": 58,
     "metadata": {},
     "output_type": "execute_result"
    }
   ],
   "source": [
    "similarity[1]"
   ]
  },
  {
   "cell_type": "code",
   "execution_count": 59,
   "id": "d3a285b3",
   "metadata": {},
   "outputs": [
    {
     "data": {
      "text/plain": [
       "(4806, 4806)"
      ]
     },
     "execution_count": 59,
     "metadata": {},
     "output_type": "execute_result"
    }
   ],
   "source": [
    "similarity.shape"
   ]
  },
  {
   "cell_type": "code",
   "execution_count": null,
   "id": "5880b3f8",
   "metadata": {},
   "outputs": [],
   "source": []
  },
  {
   "cell_type": "code",
   "execution_count": null,
   "id": "2b016794",
   "metadata": {},
   "outputs": [],
   "source": []
  },
  {
   "cell_type": "code",
   "execution_count": 60,
   "id": "d9a3d848",
   "metadata": {},
   "outputs": [],
   "source": [
    "# creating pickle files for \"movies\" data frame and \"similarity\" matrix"
   ]
  },
  {
   "cell_type": "code",
   "execution_count": 61,
   "id": "e022fea5",
   "metadata": {},
   "outputs": [],
   "source": [
    "pickle.dump(new_dataframe.to_dict(),open('movies_dict.pkl','wb'))"
   ]
  },
  {
   "cell_type": "code",
   "execution_count": 62,
   "id": "23b3fe38",
   "metadata": {},
   "outputs": [],
   "source": [
    "pickle.dump(similarity,open('similarity.pkl','wb'))"
   ]
  },
  {
   "cell_type": "code",
   "execution_count": null,
   "id": "5a87176c",
   "metadata": {},
   "outputs": [],
   "source": []
  }
 ],
 "metadata": {
  "kernelspec": {
   "display_name": "Python 3 (ipykernel)",
   "language": "python",
   "name": "python3"
  },
  "language_info": {
   "codemirror_mode": {
    "name": "ipython",
    "version": 3
   },
   "file_extension": ".py",
   "mimetype": "text/x-python",
   "name": "python",
   "nbconvert_exporter": "python",
   "pygments_lexer": "ipython3",
   "version": "3.9.12"
  }
 },
 "nbformat": 4,
 "nbformat_minor": 5
}
